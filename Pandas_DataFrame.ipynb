{
  "nbformat": 4,
  "nbformat_minor": 0,
  "metadata": {
    "kernelspec": {
      "display_name": "Python 3",
      "language": "python",
      "name": "python3"
    },
    "language_info": {
      "codemirror_mode": {
        "name": "ipython",
        "version": 3
      },
      "file_extension": ".py",
      "mimetype": "text/x-python",
      "name": "python",
      "nbconvert_exporter": "python",
      "pygments_lexer": "ipython3",
      "version": "3.7.7"
    },
    "varInspector": {
      "cols": {
        "lenName": 16,
        "lenType": 16,
        "lenVar": 40
      },
      "kernels_config": {
        "python": {
          "delete_cmd_postfix": "",
          "delete_cmd_prefix": "del ",
          "library": "var_list.py",
          "varRefreshCmd": "print(var_dic_list())"
        },
        "r": {
          "delete_cmd_postfix": ") ",
          "delete_cmd_prefix": "rm(",
          "library": "var_list.r",
          "varRefreshCmd": "cat(var_dic_list()) "
        }
      },
      "types_to_exclude": [
        "module",
        "function",
        "builtin_function_or_method",
        "instance",
        "_Feature"
      ],
      "window_display": false
    },
    "colab": {
      "name": "Pandas DataFrame.ipynb",
      "provenance": [],
      "collapsed_sections": [
        "7_MVnILS9Y8C"
      ],
      "include_colab_link": true
    }
  },
  "cells": [
    {
      "cell_type": "markdown",
      "metadata": {
        "id": "view-in-github",
        "colab_type": "text"
      },
      "source": [
        "<a href=\"https://colab.research.google.com/github/tawadros312/Machine-Learning-Track-DSC-Assiut-/blob/main/Pandas_DataFrame.ipynb\" target=\"_parent\"><img src=\"https://colab.research.google.com/assets/colab-badge.svg\" alt=\"Open In Colab\"/></a>"
      ]
    },
    {
      "cell_type": "markdown",
      "metadata": {
        "id": "VMyEhcj0JvmR"
      },
      "source": [
        "![121263410_628773508004599_6245338273076553323_n.jpg](data:image/jpeg;base64,/9j/4gIcSUNDX1BST0ZJTEUAAQEAAAIMbGNtcwIQAABtbnRyUkdCIFhZWiAH3AABABkAAwApADlhY3NwQVBQTAAAAAAAAAAAAAAAAAAAAAAAAAAAAAAAAAAA9tYAAQAAAADTLWxjbXMAAAAAAAAAAAAAAAAAAAAAAAAAAAAAAAAAAAAAAAAAAAAAAAAAAAAAAAAAAAAAAApkZXNjAAAA/AAAAF5jcHJ0AAABXAAAAAt3dHB0AAABaAAAABRia3B0AAABfAAAABRyWFlaAAABkAAAABRnWFlaAAABpAAAABRiWFlaAAABuAAAABRyVFJDAAABzAAAAEBnVFJDAAABzAAAAEBiVFJDAAABzAAAAEBkZXNjAAAAAAAAAANjMgAAAAAAAAAAAAAAAAAAAAAAAAAAAAAAAAAAAAAAAAAAAAAAAAAAAAAAAAAAAAAAAAAAAAAAAAAAAAAAAAAAAAAAAAAAAAAAAAAAAAAAAAAAAAB0ZXh0AAAAAEZCAABYWVogAAAAAAAA9tYAAQAAAADTLVhZWiAAAAAAAAADFgAAAzMAAAKkWFlaIAAAAAAAAG+iAAA49QAAA5BYWVogAAAAAAAAYpkAALeFAAAY2lhZWiAAAAAAAAAkoAAAD4QAALbPY3VydgAAAAAAAAAaAAAAywHJA2MFkghrC/YQPxVRGzQh8SmQMhg7kkYFUXdd7WtwegWJsZp8rGm/fdPD6TD////gABBKRklGAAEBAAABAAEAAP/bAEMABQUFBQUFBQYGBQgIBwgICwoJCQoLEQwNDA0MERoQExAQExAaFxsWFRYbFykgHBwgKS8nJScvOTMzOUdER11dff/bAEMBBQUFBQUFBQYGBQgIBwgICwoJCQoLEQwNDA0MERoQExAQExAaFxsWFRYbFykgHBwgKS8nJScvOTMzOUdER11dff/CABEIAgwDwAMBIgACEQEDEQH/xAAbAAEAAwEBAQEAAAAAAAAAAAAABQYHBAMCAf/EABoBAQADAQEBAAAAAAAAAAAAAAADBAUGAgH/2gAMAwEAAhADEAAAAdlAAAAAAAAAAAAAAAAAAAAAAAAAAAAAAAAAAAAAAAAAAAAAAAAAAAAAAAAAAAAAAAAAAAAAAAAAAAAAAAAAAAAAAAAAAAAAAAAAAAAAAAAAAAAAAAAAAAAAAAAAAAAAAAAAAAAAAAAAAAAAAAAAAAAAAAAAAAAAAAAAAAAAAAAAAAAAAAAAAAAAAAAAAAAAAAAAAAAAAAAAAAAAAAAAAAAAAAAAAAAAAAAAAAAAAAAAAAAAAAAAAAAAAAAAAAAAAAAAAAAAAAAAAAAAAAAAAAAAAAAAAAAAAAAAAAAAAAAAAAAAAAAAAAAAAAAAAAAAAAAAAAAAAAAAAAAAAAAAAAAAAAAAAAAAAAAAAAAAAAAAAAAAAAAAAAAAAAAAAAAAAAAAAAAAAAAAAAAAAAAAAAAAAAAAAAAAAAAAAAAAAAAAAAAAAAAAAAAAAAAAAAAAPP49Pmp02vq3ivVhT3blccclJK2uDR5Z8/Wf/K/VD1dDz1/t+I+32xuDP7pJs9g9WAAAAAAAAAAAAAAAAAAAAAAAAAAAAAAAAAAAAAAAAAAAAAAAABzfPvT5Uyn1te607jUegCO4A6PrQZqFlGtxX5mWnR3mpjSXiIOYB5enmLhesV+vejujNbtJsSg9WwAAAAAAAAAAAAAAAAAAAAAAAAAAAAAAAAAAAAAAAAAAAAH5+xvrzA03ydVi/nx6PNjn/Onz5rrvJ33bF2qPc7b928Hy9Szkh9AK5Y3yPJITdoKPIyZPwEeUCN+/gtGl4ZocmxcxLuAAAAAAAAAAAAAAAAAAAAAAAAAAAAAAAAAAAAAAAAAAAAOPsffmN/GnUjpsaIF6sB9WSsopNWkcZsGPf0ZFSuTeDz6APGHpSzcPDfHMaPpH9jGs1WKv/Luc5Sk387vPQ2meFx0LwSa4AAAAAAAAAAAAAAAAAAAAAAAAAAAAAAAAAAAAAAAAAAAAAELTtL/LlbGWpU7az68/fy/VAXCn/cEuyDkd5wd9Zy7HB8nBbgeQ6pfnL0Tkl0NCLlTpM4LPgAAAAAAAAAAAAAAAAAAAAAAAAAAAAAAAAAAAAAAAAAAAAAAAACOp+grUGNfOuQuvQz2xWidglDF0UTLK/ukLfycjq1vtn+u7DHSJ0eeE3kAAAAAAAAAAAAAAAAAAAAAAAAAAAAAAAAAAAAAAAAAAAAAAAAAAAAAAAAAAAAAAAAAAAAAAAAAAAAAAAAAAAAAAAAAAA46yXJTPYtqOkQAAAAAAA4fElAAAAAAAAAAHxVS2qFLFnAc3SAAAAFdsQAAAAAfH2ACJJZRvou7j7AgJw+wACslmAAAAAAAAAAAAAAABXqPeKmXH4nxklxsWQGzvDKjWPSjwZqiv1E05DTIZBqR2+eVT5emXWo+I2SjS+IGhmq+tIrJrrizg1TyzOXL0yXWT9+c59TQ2eDQ35hRun1mV7JIGVWmNhjSar1TxRdK+YgzTY8M1IsTINaPUxg2cyg1P5pMYR+v5BrB7+eUWIvLLLkWFU6Ua990Spmz0C45eXS1ZbqQBSoWu7iRvnLDGtW7foyzQs90EkmPbCDFjacX2jCDdPrPvA0lQbUSfnlNkLuyLXQAAAAAAAAAAACvVS11I05+eB941OzB91DQqaSPLpUKUXRoO1GVXmk8BM2Cc5DL7PC60Z1D6VBHrHSMcQmkUqZLXWLPnh9xlkrZo/ZXrCZpZ6LpxjF2q2ylDqO2UMvWRbDkJr4APD4yHUSNrmmcRneo4zsxjeyYxs5kOs5Tph34xr+KGyZzqWPGyfP7CmeW+oX4z2xR2oma816jj54+zlLtneiZ2WGEmoUmLNVbUAYbuWee5fD4Pj1yHQSlaDn2gmYbDkWonZi+wYobnjmx4cbi8vAyHXMr0kzzstdgKtbsi0MmgAAAAAAAAAAAR9H0gZv8Aeiiu2IFWtIzr00EeHuEfXLmAK5XNGGeXnqETy2AKJexnUtbwyzU80Pb8u0gV+wBG0vRhnNvlwptyAAHNRtCGYdWijk6wo/TbxG0fShQui6hCTYznvu4ptyCsQGjDPb37iJ8J0K5YxGfcgM00j7ACpW0Zl+6YIOcCqWHqEZSNKFC6boFGvIoHjoo5+gKF46GKVdQAAAAAAAAAAAAAAAAAAAAAAAAAAAAAAAAAAAAAAAAAAAAAAAAAAAAAAAAAAAAAAAAAAAAAAAAAAAAAAAAAAAAAAePtRyzyOc6MEFHFueNZLZxxHSTSN9jsRHAWT6ol7PD5jecscZJ54aGhowtkbyeJY0JNhCexKqhYzsVv8LKqv2TfTF8pP/Wa28myGJkAAAAAAAAAAAAAAAAAAAAAAAAAAAAAAAAAAAAAAAH5ktvmii2azZydnz0fBPVGb4R7xMwdPt01M7J6k34jLNQr6QnNO5+aPnfb9HLfKXdygOj4JzwsuVE7B6VTzti5LoK/oVJu5nnX+8RNykTNEBz8V7ISTz3WAAAAAAAAAAAAAAAAAAAAAAAAAAAAAAAAAAAAAAAAAAAAAAAAAAAAAAAAAABVrSICfAAAAAAAAAAAAAAAAAAAAAAAAAAAAAAAAAAAAAAAAAAAAAAAAAAAAAAAAAAAAAAAAAAAAAAAAAAAAAAAAAAAAAAAAAAAAAAAAAAAAAAAAAAAAAAAAAAAAAAAAAAAAAAAAAAAAAAAAAAAAAAAAAAAAAAAAAAAAAAAAAAAAAAAAAAAAAAAAAAAAAAAAAAAAAAAAAAAAAAAAAAAAAAAAAAAAAAAAAAAAAAAAAAAAAAAAAAAAAAAAAAAAAAAAAAAAAAAAAAAAAAAAAAAAAAAAAAAAAAAAAAAAAAAAAAAAAAAAAAAAAAAAAAAAAAAAAAAAAAAAAAAAAAAAAAAAAAAAAAAAAAAAAAAAAAAAAAAAAAAAAAAAAAAAAAAAAAAAAAAAAAAAAAAAAAAAAAAAAAAAAAAAAAAAAAAAAAAAAAAAAAAAAAAAAAAAAAAAAAAAAAAAAAAAAAAAAAAAAAAAAAAAAAAAAAAAAAAAAAAAAAAAAAAAAAAAAAAAAAAAAAAAAAAAAAAAAAAAAAAAAAAAAAAAAAAAAAAAAAAAAAAAAAAAAAAAAAAAAAAAAAAAAAAAAAAAAAAAAAAAAAAAAAAAAAAAAAAAAAAAAAAAAAAAAAAAAAAAAAAAAAAAAAAAAAAAAAAAAAAAAAAAAAAAAAAAAAAAAAAAAAAAAAAAAAAAAAAAAAAAD//xAAvEAACAwABAgUDBAEEAwAAAAADBAECBQAQNBESFBUgEzNgMDE1QCMkMlCAJaCw/9oACAEBAAEFAv8A2xZmIg+oEfJ1mZkevfgTjPXra0Vg+xWs+7t8DsRPBlGav5Ta1awfVHThmTH+CZ5XNHXXYnzdaEuOV9e0cEcR4/JbkpSD61Y4U5Tz8RUkhI661Jhn41takr6xKcC0E8fkJCjFB9bhCkLPyGEppSRhf4MrUaGwkdf5xM1lfWMPgHAMfj7ej5ZvexJ54fEK5jyDJpXlaVpHyPmLm4dBgHz/AG4tqGFIr1JX8bbJI1/j4cCsU9gZYqciIrH6R89c/GM44PnilnyfjZx/VDaJrPxiZrINMtOBaCf9K1q15dvlrWvJADJwihKfHJBIg/jjKQ2OHSOD9AGiYfAOAP8AK1605dqeTabT8CBGTlkrcogySVsmlJj8fMiA3DIHF+gg7bzdTm+nEzMz8qCvfg1axzy+H5GdMB+HzjD+VfGLR1Z+78aBvflFqV/KDKhPw+YUfJiYnogrJSdWReaOtAXvyi9KflhVhGicgPB5a9ORXwj4XWHfnoqcquOn/axg9Vhe+q898V5G4pPAOrM/0GmqKiTdG5X+pe9aVLtq0578PgdlQnImJjljipf9C9vJVXVA0T9K0xWAmGevwO+qtyd4PKboPFdoDMcb0gpkGWDD+NNYFj/8BrdhkLhYJ7ajycpG3H826XMt6WqdJYXjlbVt089Os2rHPGJ6SwCOVvS3Ta7LB+3ybVrz1K/PGJ6Tascm0REMAn4WMKnKlFfrFqzyThrPXZYvZhTKWGL0i080MkP0cRu3n80RxWf/ACdbVnk3rHXz06ywCOFtWy+N3nSWARytq26TMRyJieSwCvIvW3Tdt4ixbVhLrrPyDmfleoiiStILnqFhpcuYwiz6tfd7tLtPPWOvnp0B/JzcdOVMK/Wb1rz1K/P3/ta3YYX3ujI4KDLvNHjFoEUlc1TVwA+DKLGbzOe9YPbW8hc1n1KvHi2ffrA1QEZb0z0wBeVnNOhzL0PVV2uywft6DvoxAVa1LTgA8LetySqtUaBu92BZnU5fBB5QtM5h62iY0dItyhw/NU+HI4zdIn1DfZVKYdvYjTVJf0q/TWziEuvsML1HuKzwbyh+RWscdz6u8CCCtpZtE77Pfj/2cL/KcadO8ceBTysJM5sY3elLUI5M5qnrgB8Gc9jO5mPesHu9onDbVPYBeBgsZZ1jQyto59Eqo5VHF618tehpll2tYpXpYdLc/bm73aXabHfC+1y/8ny17DbDjEYhnFsGuTpXvd5n0yyihNO04APCvrc1mJ8Y/sa3YYX3uh7RQWZXzPblphVBs6tfd3+F0XSiyKGG42CGV8c8rt6LPplcRbxtsWmqKDJlp93f5bUdtXMGcbuz2WD9vbt/q0qQNPm1SJSwZma7vdqUii/N6P8AKhefbFSXGf3Z7nuz/CwyQ5Z8Q49Yl34QUXmIuA3L4yVuHwyVrl6BRG4p/Kc2e/H/ALOF/lH7TRLErEtcLSLix+927TVRBo6se7v8LpOlHj0MN3d7TCj/AAc3/wB8nsN77eJ2PW/+nd6lMMMUvQkbvdpdpsd8L7XL/wAnxWsX1OhP8OkyvVoHpdPPvTbbpwG0sSf7Ot2GHMQaCD5dhccaenQ9cdKwa6q9jqY7lAW465RQWc+Zy3NheQMutWfKuGFwvrywpkt1VNE+PG2hqCz9E7hNnssH7e6vbzZLlCg5suUtXGBYS+73eW3Q68zERpMQ40uCArDm+c8Igy1JegqD2DGYN9nG7z4MjIg6roLMV4w4utVOl23+LTFdOObUeDyZqGXMcYaUv9V044MFI0oO1tW0Pt0VBj97pglhTGcoC/HXKKCzXzOX3e0w+25v8yew3vtYlq+i67SU+OZqD8kTE8uUQa6LvrSZisqL7vdpdps1mHVDjMuY4gUpf6jvIL9B4JRlowwNcaQrOvvsEUBnaEOVuMZI1grBPm+f0P8AYbX9Sv7DfnsNuRgcBlKLz0bxwHmMrQHweHa1hBGCnHFatLp5Ppj9HMkDMxkvi5TEJewVxLUeVlsGelKVb0rep8Ovj7Xo2hXFAOebvd1yamXnJeLxTNAp0aQA5HszIreztllRACkXjzUSyrKH+B1gsULg89kc4PCnxXVCtTjeLBSZ+cZQraIXKeytDsPFmbXyPFrjmcBvkZDouAxoiyWVZQ/G8cDExlaA+UxLWsEIwU0FJcCgnKY+aKFneJryqu4oNsPsRokFbDD1ZxVyc9karyuGe0q5q6nTQzLOGAP6QXEguV9laHYeLNrXyPFrlcb/AFFscwrRinJZdUKtLUrep8KPN7Zp+C+IKk/8ptCKRpOJhT/rQUtAjVcA382WhKUpaL16ePhwZKFjhzUAMBxsD560HqerDgVrfpMMjWpQlSjEQZPxXYLYtyV9r0ONaAlrzqyPlCjIP3Wt7A1BXLomXCG56BVVYqyF1yiUaZ/ItkNeA+a3YZHY8j+ebdopy2rXxT0Qty8dYN2nqKX5d6lW2nQKV91tEAYCyMuoAB1NKGi21aTcWoKxXygCAzNRpY7P0qBeGRnibtXJ/EL2ilV3Kw6+8FwGSz9dVldtd22qO1RVWMmCz+ZWHs5sm52jP8Tkdjv/AG3ewx+x5q9jj9jyP57d/YdKjHaIpvbP3tFb1Kue5F0MmliksW06vuLHM2p6O+SpN29IvQHr8znuGe3ba7Jf+Nwe01aSszptRRLPB6ZX8Q2Lk+gmD0y3KDIhpnK6m2bTCwJBQ4UQaJlYbtbVvsCv6O4LGz03pQHo3acqyOxU8tqwo4YVTCAVvK5715uZyZ4NtUvfkcJS/vmvS9y8aWYCcAqgC2uwq570LwQ9dea0v73etpoF9hPjhZ1OaYrRnLUn0OaxdLjQIZAgO7TP5s226MmcpKof/l4//8QAMBEAAgEDAQYEBgEFAAAAAAAAAQIDAAQRIQUQEjFBYRMiUFEGIzJSkaGBM3GAgqD/2gAIAQMBAT8B/wAvedW2yLmfBf5a9+f4qHZVnENYuM+7Ve7IgeNmgXgcDOOh3XM4t4mcjPsO9PfXTnPikdhUO05U0kHGPwahuoZ/ofX26+pAFiABk9qttjTy4Mp8Nf3VvY21r/Tj833HU772+itY28wMmPKu68gNxAUH1ZyKdHjPC6kHdyqDaU0eA/nXvzqC8gn+lsN7H09jwqT7Cnnlck8RHYGrXad7ZtmKdsfadR+6sfii3lwt0nhN9w1Wptp2cSBvFD5GgTWrna9zNkR/LXtz/NanU75Io5RwugIqfZXWFv8AU1JFJEcOhG/Z13IZBC7cQI0z09OIyCD1qW2kjzplffekjxnKtio70HSQY7ilZWGVORvjgkl+lf5qKxRdXPEf1UkEMqeG8SsnsRV58OI2WtZOE/Y3KpNl38RIa1f+45VYWLxP4suh6D1CS2ik1xg+4qS0lj5DiHbfFI0TgjdaxiWUBuQ1rluZlQZY4FS34GkYz3NPI8hy7Z9Tkt45ea6+4p7KQHykEVDZkMGk6dN0bmJww6Ut9CRrkVLf9I1/k0zu5yzZ/wCMv//EADQRAAIBAgMGAgcJAQAAAAAAAAECAwAEERIxBRAhQVFSIlAGEyAyQmGRI3GAgYKgobHB0f/aAAgBAgEBPwH8Xz3KJp4jTXErc8PuqK5cMA5xG4nAVmPWg550CD5lpT3SL7viNPM8mp/LfFE0jDh4eu5hiPYDkUGB8vVS7Ko1YgfWoLSCBQAgJ7udXFhaXQwkhGPUcDV3sCePFrdvWL2ng1C2mzFShXDu4VHbIuviPsa0U6Vzw570Y6eXBipDDUHEVbX8M4AJyv0P+b5YIpxhIgNT7KYYmFsR2nWnR4zldSD8991tC1tB9rJ4u0a1d7fuJcVgX1S9fipZ5lk9YJWz92PGrXbrjBbhMw7hrUV9aT4ZJgSeXOlXn5hBf3EGAzZl6GoNowTYAnI3Q77iBJ4mVhy4Hpu2vcyWtmzRnBmIXHpjRJJJJ4ndHFJM2WNCx6CrT0fdsGuXyjtXWre0t7VcsMQX+z5nBeT2/utivadKj2rAw8asp+tXW1AyMkIPH4juurZLuF4ZNG/ipdgXqt4MjjrjhVr6PfFdSfpX/tQ28NuuSKMKPl+zL//EAEYQAAEDAQMHCQUGBAUEAwAAAAEAAgMRBBIhEBMiMUFRcSAyQmFygZGhsSMzUnPBFDA0YILRQGJ0kkNQgMLwNVODoLDh8f/aAAgBAQAGPwL/ANsWpVGaZ8lgGDuXtIweCvMdXkEk0AVIWXusroeCpNHTrCvMeHD81VcaBUiF879i0392zkNOw4O4chsAOFKu5F5jy09SpO2v8wVY3g/ma85wA61SFtes6lWR5PKY0ayeRe2Ob6cq81xB3hUmbeG8a17N9erb+YqveAFSFn6iqveSeXSNhKvvxk9ORcd3HcjebVvxDl1BoVSUXx5rQfjuOv8AL5ZD3uV57iT18v2bK9exVmdeO4alRrQB1cuoFx3Uq3bzd4+4DZdNnmg9pq0/lyVw109eXdYFWU3zu2KgFB93W7ddvCJ5zd45c0e4gjv/AC5IzeEQRQjlVBoVSQXx5rQdju2/dYlaA71pGqxGO9aOkOS57hi/Vw/Ltea/esW1bvH3FH6Y81g6jtx5WkVoDvVSa8nSb3rRdVYNHig6Y3zu2fmCtLrt4VQLzd4+4EUhrXmnkYayqk8vALSx/MmLaO3hVbpt6tfKbTfyO7lYDvWOJ/NGkzHeNarHpjzVCMcokcNBvnyLw1jkaqBY4n82e0ZVYSOCxq7iqDk4jFc8rV4/6rHSuBIbuXupPJe6l8lzZB3L2coJ3aj/AAGccCRWmCeWNcLp2/wpc5wAG0qjQ5/DAea/DO/uQBJjP82pVBwyMjdILztQ2/cuduFUI2MeDSuP3ZJNAEXRuvCtK8OTSSXH4RiVhA894C0oXjzVYpAerbkDHseTSuCZINThXlCERvvF93Zw/wAhn/T6qYSxhwDV+Gb5r3FOBKEsbiY9+1qLJPeM27xl98zxWi4Hhk5wy4kBYHJjMzxWi4HhkPbarR2h6ZKk0Xv2eOXFwVScFTPM8eRpSNHErRkaeBy4OCumVoO6vIzPQZs60wyMvvIrivw8f9oT5YG3XNFabCjZyatIq3qWJomEn/GKwcFi4ZaXhlxmZ4qYg10HJvYPplxmZ4rRcDwyYlYFYzM8VVrgeGSAB3SKxcOe7kZiI6ZGkdwWenJunUN6o2zs8KrSgbxGHomljzvY5Nk1HUR1pnywrN8sLFwy84ZGf1H+5abwOJWjI08Dl0nAcV75nj/Fz/p9VP2B65ZWHa0qD+bR8U+R/NaFcaaN3bAOtaU7q9QCz0Exu7xhTijewkZr/dNnGp+DuKY4nSGi7uyXGaq3GIDUyNvos1FVrNjereVpzur1ALPWeY0br2EIsf71vmEe21WjtD0QIFXu5oRkllNyus/QL37q8Ahp6J1fCU2RveNxTPlD1QfLJdhbgO7ctCZ17ros1KSWA4t+oQI1FGz2c0FbtRrJ6letExDjsGPqr1nmJcNhw9ELPaDXY0nXXcVL2Ci2HnyC4O9VM7b26n1TI61I18cv2iEXsNIIRvZfDd+BWkx7fNUZO3hq9Vg0BR3pC27XUN6bBewL7tU57ZS6opiE/stTOyMjv6n/AHZMzATcJo0DbxQzk5vfygfVOkglLoqUd3pvYcnyP5rQs2w0bu2Ada0p3V6gFnoJSWjaMCEQ73jNfX1pvzAvssLrrBpOPFY2h1eAQuyU2gjaopfiGPFRubIXXiVnTKW6RGrcmt3CmV/88tPOiAGoDKLzQabxkZ8sKzfLCf2W+ij7IyO/qPrke9nObKSPFZy1zuvHZrPmr9nkLiNmo91F9nmdU9B30T5QMdTeJUkk05oDxKwmf4BXG3nAbBiHBA7/AOJn/T6qfsD1yyOPRaSrP1GvgmDe9SZqzZy8cTQ7OC/A+Tk+M2HBwpqcsY3gFhrVpUkW8YcUYX4B+H6gnuHOdot70+0HZotT6bXAKR0VnzlaDUcPBfgPJyc02DAimpyhJieAag1adyPbarR2h6Jo3RhWdo+AZK/C9qtDetpTPlj1UDRqDBks7t7T5FMdtax3kmSNjvuGNP8A8X4DycvwHk5Om+zPaS69g0qTsH0UfU0ny5IGcbXdUL2kLXcQsGuZwP7q9DJf6jgUyCRxLHGmPRORnzj65JOy1M7IyP8A6j/crS4a7hTzujPrTJI07WkIdhyaPikFVJmrNnL2s0P0X4Hyd+yfGbDg4U1O/ZCsbwC11agpvzApj/P9Mll/WoeLvVWftH0X/kdyHV6E1fA8gF7w0VpiqtcCOo1TPlhWb5YT+w30UfZGQ/1H1yNB/wC87yOV1zoz4eKfE7bqO4oujDuLMQVSWNru66gHtMZ8R/FT/p9VPUgaI9V7xviqumYO9ZmE6PSdvRnkFHPGiOpOu85hvAJ8MhoH4g9eQnAvPNan3oWhrekN+Rs7NT8eDgrO1g6IFP5jrUcQ6IUrG87WOIT2SGjX7dxGRz3HHot3lFphbdAxcEe21WjtD0Uc4GFLpTIifaMFKbxkFnY6prV3cnPP+IajgmfLHqmMve0YKEcNqqSmtixDdFvWVHDuZQoXhzHUPWCg9jg4FFz3BrRtKEccDSC7R30UvYKHy3cmo2OvMO8IUkDXfCdeSr5B2dpQcB077urGuRhJp7Y+uQnexqie09EV4ovkdRoTH/FMD5qWM9JpC9qKa2PQLTUHan46bhRoTew5PDRpN0h3J8Uho1+o9eQuqL/RanXoWhrRi4JvzApfmfTJZf1/RQ8Xeqs/aPoqV6buR9pYNlH/ALpsM7rpbgHHUVUGqvSPDR1prIwbjdXWVR3Pdi79kz5YVm+WEetgUTmOrohF8jqAJj/imB88hl+GYnzQex1QUZJHUHqg4jC/fcs62O9jQ9ScH3WyA6upUexruITRDgaaTRqCs97XTy/iZIg6l6mK/Ej+1fiG/wBqxtPg1B1C9w2uyl7Dm3HwKpHbKN7Tgqz2iu+n7lBkbaNGR0ZNDsO4oSulD6asNuUvBuP3jaqRWug4uCrPaa8MT5q5E2gWav3cQVIDJevEHUi1wqDrCrBLd6irptmj2nIOldnDu2ZGfLHqrPLFLceWAlUltdW8XFXufJ8R+mTTGI1OGtVhtVPFvovbWuvi5aGLtrint3iiEhmDtEjVybkraheyn7nBe+Z4le1n/tH7q5E2g27zkdJFJdvGpBRe6UOq2lMUA/AjU4bF7K0jzCvWm0XuofuUJmSNa0OaQ2m7JU6L/iCOZtdBxLVftEucO5Z0zB2BFKb8hew5t+3cqR2yg7Tgr09orw/+0GRto0IRh93SqnsL71XVyRUku3a7K60yIurSuPFZtxptBWFobTvUbHOqWtAryC6N2bO7YtCdvmF7S0N8yrzRef8AEcgkEwbo01KKOtbrQEA/AjU4bF7K0jzar1ptF7qH7lCZkga0OaQ2m7IZHyBzC5xLab0TZrVd8R6KtotVfEnzVyNtPqi1wqDrCvQTXeo/uqfbcO05X5pM51bP81YWROcM2NQqrOCKERj/AE0ukeaNbrTs07m66inLD5K3a0wFU1w1EV5F5jg4dXVkdI/mtQkZW6cn2apznDkRtkJ09WH3d+St2tEx7dThVOuPDqGhp+VYLHHreQSoXj3T2gH0OQR3XPkPRahnrHLG07UJGuq0itURZ7NJNTaEIpI3xP3OTXTw5xt7Us9d0QwGibK0EA119SjLmE3jsTm5pxzjDiNnFQwZh+t2n0ck/d6qLi71yH/nRUV9pN80RzNmklA6Q1ItALXjolWcTWfOE807lEHxuo/pbMjLKGFzz5IZw4nU0a1fdYZgz4lfjdX6KWJ7XaA1rN/Z3twrUosggkmptbqQilifC8/Er00WcbeGCjeyB117MA3o4LNZl7rzxpDUFJZywte2uvbTJJcYbrNp2/lFzicAKlS2qWJ7q827sVwWeUOBqCQg13Oj0Tw2J1rs7M5XWEYbXY3NB1pzLOQI3AjDZVGM2XOR1rUKPPwlrxqLkz5n0TvkhQ/q9VZu0fRT/KUfad65J+71UXF3rkP/ADoqy9opjGigAom026+8Kw8T6p4A0m6TVfefdCju5Wi2P1vJDVM/MGW4TRo6l/0yVTH7O+OJ4OB2JwcKgGvg1PbvaR4p7Ps2djJrUJgtMBa4ar2xframfI+ik7f0Cs9sZvo5aBxmwbwKjZ0tbuJ/KIijY5xecaDYFHHtpV3HIbsbsy/cDqP7IyEPls52DYnxx2aSRzhShapWX7kj8R1Ix22GSoPPoom2ezOABxkcKKJrWucQ4ahXYs0OcYgO9Zi0WeQEE0oN6jk+zPbEDRopietSMbzjGo7I+zvBvHGm/JJG7pCifFJZy+KtQWqkVke53/Nyfa7QKPdWg4qy3WF2kdQrkY+467QY0w1KxXWONDjQV25J4IWOMcxbs61HGOiF9sgZfaee0Kgs8t/4aKSa0uIDubGpH3HXccaYc1PDXXXUwO5OjtsUhxweFHHZ7M7X7xwoo42guLSwYCupRMpjmqL7PJZ5KueMadyli3jzUEcg0bODXx/O74obIXfC/FafvHmrv/i8v//EAC4QAQACAQMDAwMEAwADAQAAAAEAESExQVFhcYEQkfAgobFgwdHhMEDxUICgsP/aAAgBAQABPyH/AOsVEgBqstx7ePdMUzjL94dA7dxfvC9ZubneHqVYFq7RJ7VntMl/P3ix7j/adoIP6qRlDVWiXXXjH9o/bJscDx9A3c1HK+hgyI616H0F+UVUpKvsvklVr01O5+pLlxGJbqpdXva9k6cKbHY+oL8MJietvmFX2fUfE9EplJ4lf2l/Jb6B4l/qBnceU1/mdidx5fXcY9NDuzOgh47YerXC6nqouvKJ/X1gFBomGUHWen94Hi8b9PkrymNTPSJeQspRxHjEr6KAv2HmVHiFBcy2FfUly46q0+SX68v9zb6xUI0m8YTvafMo9ix/TnA4j1w+p4ypvGqtBK/2i/vDgg0Ao/xJL9eF+5vKlD5ln1pZk6Q/Tjq3h32lv4UnX6jCg0TEoeudP7QrD1cf4hNmE2vIloVTL08GssHwNY4w/RUMUR0fp3L+x37y2fJfvx9YoiNMp/J/ulAeMn6WFWJHYo6pdEuv08icMMK4h1wysd9ogZR2/NzD9PVL/wCN6kvfcz5P8GJ9guo8Q9ak6LpFSF5+vgfnaZZ342gBRglfqKxfGbLf4xtERRKfpSGoFTR6tt2fVtYctJnPO0lB+p76rwosk6OkokA1H1r0NfcbQ9VI+Q5PozfcMzw6zD9VVMeFs6PvHtjcYYmNn2+xAIADQPpyNHIxPlkbss85SpX/ALVV3is1Zan/ACf5T/kfymOetq/hmM+JlP8AoMh0U157ymOA4752/wBXURMlEa8LQf8AJRfo0fkQkBRYmnoFC1X5eP8ACC2jKukVqHatY8/4x7AtVoIRUXVper6WKHymIRxnWBWC8ifwl+Ca6B4fRT4OnWe7CNQJHXPP1a/SLhd9X/gfidMKghB7z5v8oelOoETuZ0N1r8x/7LP3XpcUpJ7YPYHKv0QaTeL9fuKNQBYJ09E6E9sFsXqv6RPEUxytEsay9sACNnPphwd2pRiclxFqXcV+jBdNAjtO8A+uHR2bnWro3BEsbPVlZBO5F3BDGJ0l7BKSNfy2grBSOgQL9TrDX3jTp7mpb16r1ZqA7NxKhPV9cmr4v1ToT2wgY1Bs0+j5ahPbB7A5V+gtgHWC2CdIxRHqYXQeVfoIW64PSDgTvvX6NHd4d7Y6sq9Yr89a8SjKdSvvcq4GtG5BUR7Hhg0fsIT4rl9Mq6E9X1yVn4v0+/flBR8GTWt4B9S7B5VQTB7eCARsf9r4nT9FARWH+064FeERKrD/ABFe96tc6msp7fSz95TMFLyOxuQzEwCbjslN/wAZn7hG/wAvTWDT+8y9urvTUy9SHA0HJlJc31j7wxZzU87GpEq9G3veqnjMLY3TdhzXUvGlNF7qn8Srlu8E6bMIerxwGpPmOUOSxM/B+8YqmyqPsR7rAV4in9gI8jHdhZ01XROWgCfdGyYVKezF/NnakHyvEupqoa6NIZnfIkInkl3i3HrciqB643IQvEMhCU54v9kvkXk2j7OAELPAQ35RYITyYamaxYA3vafC8T4ziPoxQFXBK9F0q74e11rgQhEIa2wyaeZ8VxE6pCxluOrXO5TXz0A+9zN2i/cBuSiIVY6Dh6MyE50flX4h7sSqXWW2cHUlYAcLgYZQAs2BVF7S+OwwP3SrG6rdvRmY80fNEOagAcB6629ZQ17wAUFE+K5fVNnw3H0b49hbyOUaO2O7CjNG4YeUBrUZNcbo9wXCdOpMXElci5wOk35dV/aPKGFJV6SrhKDnr/s/E6food7HsxG79+DATod+C5pRDI9mE+H+OOvtvr+IUrdQDnci66ngaTdGMdtD+Jcj8xu8EqHj3rqwQ3V21/aXaJRtwzsZ8H8cy9Euv4lyBmAp7PXLyOwq+czml/Ln0a7kH4m0Ig+a5Qev3cv0HmDfh1lv3gPfUs/+lVtrWK/j/EW+P8QG4EUx14lrrWZGdr7n0kBV6ZT94Vk+gz8zD+6NsFtexKQzO7+D0+V5QnyHE+M4jp6KeWhV5xGMbTyPQd9jHkmPzcQz7TwFmuSGRqtsH0uyOy+vDibSEc7nowOYn7ej7H9nrm9ofHPqwvxIsEQRw+qR/Qqi51w8Q+0+K5fVtHw3H0f0WrvcfU5Kth5Rpq9gaMwFv7oRXyZKJum7+QgiCNj/ALPxOmdfEmoAfsJSW9TGLlvBhsTEdBNTn5lLrATetSFZcL0NOe81jpfJT16SnFMo+HpiA1UFyTCjadtC8u7Cw0HXyV5mKhxXYXAAjY7kEhj1IEHWnPgzz67eFbPE5sgfzLtjRPQrxFzQ2ENtEg6dJ81yj+FHfsEQANVhu1sW87RS/vTrLl9I7LHiD/KxIYwLYVZXZJ1GfK8T5zj6ad+OWX/2X5HV6H8yzmPbbYN9glK07YegKIFy90RzH2Jh4xAwuAGwKRhYeZv0IqOvvN5ple8xkVPAveC1BYMjElN3dq7+J8xxL6Ch87vtLecFdA4z3l3G0iO8/wAQdyoDq7U/Qymrt9TMa0psuO/0anCgm1aRg/GyGwwegOTMcF+6qZ2ljWW3r8SsGft8eE+K5fRLom39qmg0CbiGRgM+dv2l8lYnvf0whd0cl7gfzYSBoDQ3XBNbKdMu6goeOxTLfE2Rgd+RcpROCfzCHEt4hKs/q9WP9ljB7C6puf8AZenc2CO2QmUOxp663lNF+CFJOhB75htgBzafu9fTTWDXdExVFqUpb+qfH1DHcS4D0fxZ3TmSeZK815XlYhAWYl6Q5mnKVRAXipCxI9t45/ZI5D8bj8RW5ZKV/eaT5rlHDGzUWtq0lUXrfasdBfsXZt6FRjiAmEfVm/KJ6Xk33qPqKFap7cEz5V9u8JKFAZr9NXO1yPIwrXDta+5OwfPaVidbmR8x1EZr3H0D/YCst4qA/kq8t5Y/1chQe5z/AGhdneZhWCQdJXH29NcxKNbzzGwK8fZEUeeqvqusAgMQz0XXTNC14hNbow78bJdXzB/Npy8sIRQXS9IXXXQravTCTn5MIAVvAVquKFK6eoxU9qEtFYcq39UERMRVZ9hft2jsn3mEodrfvUSEefO3HpQYDVtEY1J5qXl2t5/SZDvc32h1HeZhUDQdJXHoeZ4HpffzHrh5U99U7ziomJpu7rlYS8dJoksE8DWvCWW9n+uGVK7xry5gAAf+UpqQt9zxHXgUcJj/ANaalAtTPRaUsZ+tiQuoNZoFodn1QFWg3mWkpejY+isJVdFx31ZVlaY9D2JaNL1+gNVVVt0/x3eFGBeWOHiC8YZysIXTx+lf6CqQfzCwHxnX8kG5Vk11ZzzFXpwz/kA9TNlR3nIOP3jdW0DvxNMDDHWtcyg3WTrXE0DKtWVS9twYbZ3la6NWJZkR0vd9KOvuo1sRYrFc3HHreNfugdOt1fEvqN0NxLSywKpmm/SrRNpVWznxEVeoFKP434hOu0TdcJBLGzRTi6O83aPYUc6RHbqD+0UHFAcTQJTvd8xZdQLQ7ovGy7uAzONtp4KigKtBKJ6Viq3H6RrpOToR4jaovLvwSsAhiut0y2F/zhCsA8qYpx/EHVNH+mmCCHcmrWZZZ1/3Je+9aQzyfvPndU+V6T7r0LvidvXLM+BfZM/S33bAsuf2ZQAcBtKA1UaeWfNcJmY+2ankmW5de3HuQ29aPv8AxHa8220j4luvy8S9JerG4IkRgLzBgtZnilTDOavpt+8tKHLIt1Jw/K/Ugwd6Dqp/JiCm4BDgtlsGR8jj9I7vos12OYf7/D19LuK5VBl2N0tlrXL7bkcuXQC/ePhWm51RftEbWULXECw2QxmvkhYZtKGUMHGgmcybyOsNSGhLJbQ2xBGumHWpvOL1GrPpiCHtxczQZ+SGILsqP/U1hTepvWCYVddTTiaCd+qW7vHo1MimHHo3kwRIaqs0mimJ3d2WH9aM4fDFL799DZHrtr36dIfSXVe5GYIjlbMx0bpXjvxNAHdwWK14mePkE01xGsYzVxSkvtOpowQhOk8DSaETD00+/wCt7nsFNjJ22jrVyPx/+Xl//9oADAMBAAIAAwAAABDzzzzzzzzzzzzzzzzzzzzzzzzzzzzzzzzzzzzzzzzzzzzzzzzzzzzzzzzzzzzzzzzzzzzzzzzzzzzzzzzzzzzzzzzzzzzzzzzzzzzzzzzzzzzzzzzzzzzzzzzzzzzzzzzzzzzzzzzzzzzzzzzzzzzzzzzzzzzzzzzzzzzzzzzzzzzzzzzzzzzzzzzzzzzzzzzzzzzzzzzzzzzzzzzzzzzzzzzzzzzzzzzzzzzzzzzzzzzzzzzzzzzzzzzzzzzzzzzzzzzzzzzzzzzzzzzzzzzzzzzzzzzzzzzzzzzzzzzzzzzzzzzzzzzzzzzzzzzzzzzzzzzzzzzzzzzzzzzzzzzzzzzzzzzzzzzzzzzzzzzzzzzzzzzzzzzzzzzzzzzzzzzzzzTzzzzDzzzzzzzzzzzzzzzzzzzzzzzzzzzzzzzzzzzzzzzzzzzzzzzzzzzzOn13TWEf7Tzzzzzzzzzzzzzzzzzzzzzzzzzzzzzzzzzzzzzzzzzzzzzzzz62/wA8l8rDCDgn88888888888888888888888888888888888888888888885ut16mX88urMAA68888888888888888888888888888888888888888888884X/wD/ACXPzzEe98ZzzzzzzzzzzzzzzzzzzzzzzzzzzzzzzzzzzzzzzzzzzzzzyxyfDf8A+0D9/wDML/PPPPPPPPPPPPPPPPPPPPPPPPPPPPPPPPPPPPPPPPPPPPPPPPPDGePPfrufPPPPPPPPPPPPPPPPPPPPPPPPPPPPPPPPPPPPPPPPPPPPPPPPPPPPPPPPPPPPPPPPPPPPPPPPPPPPPPPPPPPPPPPPPPPOMPPPPPPPPOPPPPPPPPPPOPPPPPPOPPPPPONPONPOPPPNPPPPPPPPPPPPPPPPHOLGMPGNEMLMPHFIGIGPHNBAPJONHBHABPFPMPCAGLPPPLHPPPPPPPPPPPPKNOIFLMGLAKBLJOABBBPPMCNHOGHLBELAKDFPNOLALKLHBMGPPPPPPPPPPPPDHHLHPPPHDPHDHPLPPDPPPHPPPHPLLHHPLPHPLHHHPDPHDLPPPPPPPPPPPPPPPPPPPPPPPPPPPPPPPPPPPPPPPPPPPPPPPPPPPPPPPPPPPPPPPPPPPPPPPPPPPPPPPPPPPPPPPKMNONEOHOKOLEPMMMIEPPPPPPPPPPPPPPPPPPPPPPPPPPPPPPPPPPPPPPPPPAFGOFJPMFNJBIBKPDLBGPPPPPPPPPPPPPPPPPPPPPPPPPPPPPPPPPPPPPPPPPPPPPPPPPPPPPPPPPPLHPPPPPPPPPPPPPPPPPPPPPPPPPPPPPPPPPPPPPPPPPPPPPPPPPPPPPPPPPPPPPPPPPPPPPPPPPPPPPPPPPPPPPPPPPPPPPPPPPPPPPPPPPPPPPPPPPPPPPPPPPPPPPPPPPPPPPPPPPPPPPPPPPPPPPPPPPPPPPPPPPPPPPPPPPPPPPPPPPPPPPPPPPPPPPPPPPPPPPPPPPPPPPPPPPPPPPPPPPPPPPPPPPPPPPPPPPPPPPPPPPPPPPPPPPPPPPPPPPPPPPPPPPPPPPPPPPPPPPPPPPPPPPPPPPPPPPPPPPPPPPPPPPPPPPPPPPPPPPPPPPPPPPPPPPPPPPPPPPPPPPPPPPPPPPPPPPPPPPPPPPPPPPPPPPPPPPPPPPPPPPPPPPPPPPPPPPPPPPPPPPPPPPPPPPPPPPPPPPPPPPPPPPPPPPPPPPPPPPPPPPPPPPPPPPPPPPPPPPPPPPPPPPPPPPPPPPPPPPPPPPPPPPPPPPPPPPPPPPPPPPPPPPPPPPPPPPPPPPPPPPPPPPPPPPPPPPPPPPPPPPPPPPPPPPPPPPPPPPPPPPPPPPPPPPPPPPPPPPPPPPPPPPPPPPPPPPPPPPPPPPPPPPPPPPPPPPPPPPPPPPPPPPPPPPPPPPPPPPPPPPPPPPPPPPPPPPPPPPPPPPPPPPPPPPPPPPPPPPPPPP/EACcRAQABAgYCAQQDAAAAAAAAAAERACEQMUFRcYFQYZGAscHwoKHR/9oACAEDAQE/EPq9BQAq5BUIp9TdxQKBrX/6yqQYwLkaXwkKC24qU5rayFRwt2w0XY3Ow68k9dGAErUWz6N31pRAhiktUUC3lyXYwQWwe9NKUgeiRgKhFE1KyMW7JzUKdJvjxTyRer07COSADqix2pZ+Skj3vl/JQ4fIwadWKzVfJ80VFFXNceRpVmfvdGpc/wBlnhxYwtO5QT44yFgj3TqHtPzjPl6aNRkl1UKKmpi1obrFQfpGVFeykSuWaV6tRUhoT8iggAiZ8TaXyE78OfNTD7H/ABio7mSbmF+oFG8UAACAyMISdxtUlLdFT4fYeTvUXEa+zJNPgRcHV94PPfRo1KC+0TUg/qdqnSfv+GX/AP/EACYRAQACAQMEAgEFAAAAAAAAAAEAETEQIYFBUXGRUGHBgKChsdH/2gAIAQIBAT8Q/V7cvjiY9xyyvtFoBQXtpdMX3gW26YV+SUCqBL0/Al1j7Ma44W3RpsURMmuQ3Jg34/G8XyqnULBApjFXoKnkmy1dgPwy2MyoolO8zECtUBSTuuGKCuUyddUNn45naEnZIFnE7Vv21+q1XJ4Z6954MUheQVqip2bbz4n8iCX+Rcam2y09KR8iVnH+PrmMNvkKk5H6ZvTXV24dS3XZ6i7mlJxX3EjoFLV3W9Dr/gVZ5YqHk4JQRdU38jl+TpjnGDPiZSWdxR2KHsaBY1ZMowkXj6Hd8jK0A/f/AHBPs+M+X9mX/8QALRABAAIBAgUEAgIBBQEAAAAAAQARITFREEFhcYEgkaHwYLFAwTBQgKDR8bD/2gAIAQEAAT8Q/wCSdcuX6r4XL/K2Gpa0AB1WML7zphk8j2/NE0sTtkdrEFlophdh6CISLUA1VmA3suX7DLFXTsXPn9keVmdUK3V3NT8pYKn1GDyzmkIXC/uEdu37AD0JXD8qj9mpMi+L0lAufUegeE5xdnclLOwwRNJZF7hk/JjWZsQS53b/AGNTNQwtWu0YPUqR8jMODkAcMwlmS+osepTA2gHkmGrKwH35RWhC2fIWeC/x/km38l1fY1YBmuVMX/LJeDsaHr30Uj3DBM7dBWSdTc7s5+G0suBqLo6n9kSCbgmvrz9Z5o2tDsko407tB30goYTOL8P4/f3asobDF4vnWimom6iaj0Uqd50dxYmCizk8rqzRGEQfHqAIgiUkzPuay7HG2b4Pk9Z6yLAoibJEQ4RdDuc0LAGfRH8catD0JM/Sg6wXKqNkHIwG7LyDp5B/cG9ihg7BAlf4AxM7iaYl9iDxH3w6spL9TCvZKI/jhuoKHbVCllF6g9SXQtajskpwCjlfOkC+q4Tww/w9V5LCL8d/RO/IHB2JYeE/lvNIXso+IFIImo+h66cFIeHz+OhqUFA29nnEK23AHRr6yIAbEaSWo7uj2kE7mfH7y79Kl15Dq9iXlV3XwRkk81fpEweI+Y+eVCTmbMsAlakEKg9bzABQUH45UqNo61jNIK+wzFxchQetFERi0lPI8g3iuOWG7oG8bE9U2+tvM8zwPM0yueQwgIBQBQfkLlMSmdjleXkyj9HMUDrKIAaRKRPS5SN03HEuhdaL4YjDXBT6kR3XBFX+uPEAgABtD8mBRGYwHmUnlnlPGjH3JQkTuPFNIJXrgTn4MtlFQa+gph4H7GrKb2EnYgDB+U1wUQJyaewzHa5pT50gdnbzP0CBIYAUAcj0VEG8a5UzX8EYQvTM4gV/upwO6sVUatJhqL34Ou67Rq3VRY9q/wCBV3Lg27xD1JchU5Fn+KHxrIA3ViheOp+9BbyIsCjWF+XBeKSFDoicDovzSPRkOrD/AABWp5qQ21CPcwNDdYX+NQPBwDmrQTJApOVVF19LOp6hX3NEaG9Zhk6evCvoQ71zHAOyxDokzRKtfo0DYU9QXDSVJfUqDf8AoHyZLCw+4UnJJ/6UCI3o35ZVmUO0bfGKwpvMXB3jrwQCqAZWdFeM+iawPc4LyhpREeNSXmlFveGt4lZLJ03szq+nMSe3Hv3+7ghH9Te4wpabCZl0LA2PZ4LWeroVXmJDbUhl1ZZV2JiII2PFCxnOnkWHN1i+w8FAVaCKW2roF8RSGNIIeywUBCxGxON746HF8UzZdWYXG4BWqp+S0sBu9cs0N0wGK3d68HQQvKtKLdrmdIsfmbAqRAaBfE6GmEYI6PBJor1hu9q49N7psdH6jJnonF5QFWgnR1jPo28j3OGSNVaAnUiSs+J0LWNnSrpPucBoD0LNWE0+WhGBEEbHicbuG0ESjutVHvYU67I94FRdf4B3ud0izjj4UOY1XrYtMFro6nDOw+viNCbkIwRBOCV+bWG7246Bb6Yqv7xWtzF9h47ThAfmNjzsTOGCxGx/lfJk+g28Rj9iWyPhlTqA3ceKrSc1dh1XBGpGLbotmThsEstz7JCngPoqcRqrVo2khU+B2D18kAVR61QD4Uxhd6wNTDXZXMXxyLsX3GDEiVSNRS+qTQN8Vmc4yaJzGMh9B1RRoYmiOsyi4/dyjWm0Qc3SIRIoTzeeBB1X3K9gIdX41LMi4YBvdc6ggIiA2g6xpVLju5SbhsvewQ7jB0R6OwW576AsTvOZysmbMaQ5ZRKB3JtinPgXYMUwryfR3gSfU74AuhhNk9K1rGQuZ93QL8AKUtuXI4pErM7rQcJNQSwgDO+uVPu5dqznk7UuZyox/wBIS+j2aGGsOO5kEDWp7RUgZCCl7gAO0v0O2aXsz7XTCQAKrgAhTOxL1xEiCsiL3Csx/wBSqK1eR0TANh9puww+2gdVwR4J3a3NWmVGHeL7fEIizCeJYiJegOCNIfb7MPBPpToC+TpgQCv8+TQtUGeGar94wmYrOYTOzGFobHjCL87S9Sq7gmwDLVrV8NEXFZY8gS8EAOc2gKDiBd9RluUahwQaAUcM/wBftwP+x2egKIA2OBgxNUSkh22QehD/ANrUDK6UYQnzNhJ0Ahdmhihh1IDwxBLGvvE9gTn8lBRjkYYoCApKXk/k/Jk+w2cacjDss6s/YiU1B+seMPp+FoxduH4qzaOgasuV3BzBFMgakMgFlercsgQ861f2jG2PbLMF3dDbzzTaZDr9Ko0WYkSw3kAKI/a8m4qcxmhNNVHHTze5A7lwIMCHcbPdXguwuPu3l9lId0RmMJH0A90U+V4FMHinBDWEOukzqmtexkBcXDRRxcxwmfvIUsXvIjyLFbWmArftmHpVKNCjbBlCF0NXA76w9WuS4PAgdVa1k7hRYEOt9WYKXNnCcTOg4J/Q7ZrT7PTHcA0cqRfRWdPAB0i12QhprpKkOOwpK3UHo1xfhHmRj4XAasuNH39XgtCfb7MOYK57cCtlZf3T9pun3Oz0R6NZW11XUGTRICJzHidMWbDIXGB1/wBgJ4Z/q9uBf2Oz0FGUfNss04MHUC6j/aIZNUC1NgTrBYViL7eJA46XXnl0oTQAiNiP8n5MjCQ5i5ECXZJr0VcE8xcoNB7RZABlapWzIY5hMkoHhjgjxohj2IIBERMJD+kiud4GQ82UQHxtWhHgC6wQMRtToDHNMDiU9x5Xux/qQdzT9EpFXGB7EK4LEsR2Y3e0XdEBtuxbezcFwBbPBT6/dLJyKzWJWHVsFzi8E0ypxWFqbQKaafng9IafjiFA3EgyGtFAHNWMiJXPJL0LMxhYmRNueVilmgtRZd2RLfJBvw7JLQokoCZS6463xmWfU759Zt9KJAYdygeNIq0ormdLwIIWBN4GyRSnHIJnNdww+AXI1FBZSlVLqLsbx3ouAhbatLC3Eh/svLPQc10CHfSbxxglaO1auMAPQZ/qiXAOcVoPMSZicdZVYbRjD1h9HVWp3UwF+O6JhtIABER0SKycO530M1lsI3RcYfb7M+x0cPpN4+03Q39fCE5h9yWs9FWtwTKxiMkJhg4TySCVksWj5IFucjhUTV2n/wBQgkgLrKrwOGf7/aUTBvipOYKNowBySEN68s9A5rGvwpsqpwY5gA1CpDLeV34dmD6Fz9MfNY0RKfLB+TiYtXJALT7ogaRLQfSwrUrbeaKdqMTx9S0v2rzIAtVQ12X6/wAl+qZ6KekjBv8A3kYuf3ZfSQoE7iFuKl3NOrdnbdL4kJdvnYK70dHux5rqnNc3gIhVTYDDZC0uka+OaG5S28+k3vjROZq0yZGcLK157mljSjfs6G0CmlROPySHJGZa8oknuiV1aV6TtCpD/Z5rAAAKDQ4PXTSC1dSymisuntIhGroVT58qKhG2quP9JF7u7DECjmldsUVcXnS2piDgWBbK1c5MTLHXpcatPTTUsjMKjzaiKOnV0fEM3qdCpAVtcjdsrwZCsPbWqhyNQ1qgbkkkF5y1M4Tcgpptfh2Voty7e6IKT1dmPAeYEKWDQOgmtUzPdxSNc1Qlu/NMCbNcEcEAtUJe7KrYP4gIZRexZfawNBqmqc15sT731vRKoisLKtcOBV0+9nhu0YYrYLbpYErEERiXCBC530h2AXEGaweJoFCI5EZl84+y9cIpV6V8AIqB7n42D4AxS9iY4DRd1XhWG3ShKKauoFlqq3OpnVRYL6XyasqHert7ssN06rp1HxwDT5kKirLUjkk6N98cFSZFms7yRHqvn3iY1jpNo1EgTRd+CEXUdKyhO0AwFBvvfmQQACgMAH+o0cTUBxIb9QwhALqDQj/Fo/i0f7P9A+st7AarK3l4lGlB1PXXJXUWDoO0XxbRKabOJDgKpoAmsGPXZUDzp4HMi13lrARjYlO87YeF7jXNun0dQLrMqJlXeDf+Ko933fJwRcN1i2oWQdZr6lY5GLp/FUVszNl/aRd/2MDyBCSAiIl2SkgAvA0QpPKsj5J5QmN3VvSucMLY1/jhTTVHwrS2KWWOEsFTbhFMOqsDAByxcdGIuEdBDtYZik6oqw9YtPMI6h6YrXN4fF/VPvt/D5WU6qYoMWfJG0Emmu2IwyghYNVGtQrQapXCvMTurZYKnZrBEEbHRlnCLRnLPOMmJG5yeGciLu1LRinuCZw3axKElrZsoCet2jQqBuJ5+FI+OUqvBpJADBEWXQXFXML4+o61QCm99tE7SGSG9zIfOa15RZnxZIbQCq4AIthm9Y0UOmfxHoNugbWOG6ph4ZsbJF9TZu6Cw0kBlpbjSFcf/M4KiNYwxzZPcPeFnsv7HSxmIs58zTqoUt25kfCNertqtj4jhz/X7+GX0ekWTvgrHGVOxBBR0jYxQ5fFPT0+5BAMBYAQzMiMBV4KZHqHfW9PkIGWomqWLvC/LyjAts7YjXy4+dvcQkRIlNrLuuadwlryzm5wYRJEclggoTm7zAxF23xkN6waCYNXGVblEO5KJUIqe0EU5n98+Lk4cx76c8Lfw7HIDxBJTRdc5O2j8RHl/mvpFLV5ypAhjUxUpeyLv0u4uINjrr51UGoiJpX3NW1C9GKpavlapoSa+10XA9EYiwAPArXYgtxKUlwhYVqcXAIDemSHXi6oWJUW4VVlgalKEQapz7WhFB+hgbbFINx3rXGtGGPtgiUF1GJTzGPkxWUD1ApQeC6iC5bBD/p1s1VZbPsRQkF5c0Ga1HuJo7f1ZWHu/uEqGlzQgSjDHM98ncWLlC0lwaJl1LJiadGvPLs0JbdjUBgR8AjGeYOWof8AHWqkLBlFPVy5GBn2JAFkQw4dACDQMowbFSJSMLN5QBdK40KuyLSWvmD94fK16oRwfmzoURea2ilqF6LavB5X/N6M/wDye//Z)"
      ]
    },
    {
      "cell_type": "markdown",
      "metadata": {
        "id": "ykcFlHLw9YvD"
      },
      "source": [
        "# The Pandas DataFrame -Data Structure- :"
      ]
    },
    {
      "cell_type": "markdown",
      "metadata": {
        "cell_style": "split",
        "id": "ilxD8YoD9YvG"
      },
      "source": [
        "### DataFrames\n",
        "\n",
        "your only true firend when dealing with data is pd.DataFrame, let's see how to create it!"
      ]
    },
    {
      "cell_type": "code",
      "metadata": {
        "ExecuteTime": {
          "end_time": "2020-09-14T20:02:15.771539Z",
          "start_time": "2020-09-14T20:02:15.150750Z"
        },
        "cell_style": "split",
        "id": "Qu5jcI8M9YvK"
      },
      "source": [
        "import pandas as pd "
      ],
      "execution_count": null,
      "outputs": []
    },
    {
      "cell_type": "code",
      "metadata": {
        "ExecuteTime": {
          "end_time": "2020-09-14T20:44:42.339912Z",
          "start_time": "2020-09-14T20:44:42.321925Z"
        },
        "id": "eGVdviLq9YvY",
        "outputId": "e038eda5-a7d0-4ed0-8b8e-a3d6606b9c49"
      },
      "source": [
        "# creating 3 series with indexes ( name . item purchased , cost )\n",
        "\n",
        "purchase_1 = pd.Series({'Name': 'Chris',\n",
        "                        'Item Purchased': 'Dog Food',\n",
        "                        'Cost': 22.50})\n",
        "\n",
        "purchase_2 = pd.Series({'Name': 'Kevyn',\n",
        "                        'Item Purchased': 'Kitty Litter',\n",
        "                        'Cost': 2.50})\n",
        "\n",
        "purchase_3 = pd.Series({'Name': 'Vinod',\n",
        "                        'Item Purchased': 'Bird Seed',\n",
        "                        'Cost': 5.00})\n",
        "\n",
        "# compining the three pandas series in one big array\n",
        "purchase= [purchase_1, purchase_2, purchase_3]\n",
        "\n",
        "# lets print each one\n",
        "print(f'first series: \\n\\n{purchase_1} \\n\\nsecond series: \\n\\n{purchase_2} \\n\\nthird series: \\n\\n{purchase_3} ')"
      ],
      "execution_count": null,
      "outputs": [
        {
          "output_type": "stream",
          "text": [
            "first series: \n",
            "\n",
            "Name                 Chris\n",
            "Item Purchased    Dog Food\n",
            "Cost                  22.5\n",
            "dtype: object \n",
            "\n",
            "second series: \n",
            "\n",
            "Name                     Kevyn\n",
            "Item Purchased    Kitty Litter\n",
            "Cost                       2.5\n",
            "dtype: object \n",
            "\n",
            "third series: \n",
            "\n",
            "Name                  Vinod\n",
            "Item Purchased    Bird Seed\n",
            "Cost                      5\n",
            "dtype: object \n"
          ],
          "name": "stdout"
        }
      ]
    },
    {
      "cell_type": "code",
      "metadata": {
        "ExecuteTime": {
          "end_time": "2020-09-14T20:44:45.654322Z",
          "start_time": "2020-09-14T20:44:45.630339Z"
        },
        "cell_style": "split",
        "scrolled": false,
        "id": "DGUPVeX99Yvs",
        "outputId": "60e95c72-cb58-477c-e723-00ca77b76d8f"
      },
      "source": [
        "# creating a DataFrame object from our series\n",
        "# notice the index values\n",
        "df = pd.DataFrame( purchase ) \n",
        "df.head()"
      ],
      "execution_count": null,
      "outputs": [
        {
          "output_type": "execute_result",
          "data": {
            "text/html": [
              "<div>\n",
              "<style scoped>\n",
              "    .dataframe tbody tr th:only-of-type {\n",
              "        vertical-align: middle;\n",
              "    }\n",
              "\n",
              "    .dataframe tbody tr th {\n",
              "        vertical-align: top;\n",
              "    }\n",
              "\n",
              "    .dataframe thead th {\n",
              "        text-align: right;\n",
              "    }\n",
              "</style>\n",
              "<table border=\"1\" class=\"dataframe\">\n",
              "  <thead>\n",
              "    <tr style=\"text-align: right;\">\n",
              "      <th></th>\n",
              "      <th>Name</th>\n",
              "      <th>Item Purchased</th>\n",
              "      <th>Cost</th>\n",
              "    </tr>\n",
              "  </thead>\n",
              "  <tbody>\n",
              "    <tr>\n",
              "      <th>0</th>\n",
              "      <td>Chris</td>\n",
              "      <td>Dog Food</td>\n",
              "      <td>22.5</td>\n",
              "    </tr>\n",
              "    <tr>\n",
              "      <th>1</th>\n",
              "      <td>Kevyn</td>\n",
              "      <td>Kitty Litter</td>\n",
              "      <td>2.5</td>\n",
              "    </tr>\n",
              "    <tr>\n",
              "      <th>2</th>\n",
              "      <td>Vinod</td>\n",
              "      <td>Bird Seed</td>\n",
              "      <td>5.0</td>\n",
              "    </tr>\n",
              "  </tbody>\n",
              "</table>\n",
              "</div>"
            ],
            "text/plain": [
              "    Name Item Purchased  Cost\n",
              "0  Chris       Dog Food  22.5\n",
              "1  Kevyn   Kitty Litter   2.5\n",
              "2  Vinod      Bird Seed   5.0"
            ]
          },
          "metadata": {
            "tags": []
          },
          "execution_count": 62
        }
      ]
    },
    {
      "cell_type": "code",
      "metadata": {
        "ExecuteTime": {
          "end_time": "2020-09-14T20:44:47.452519Z",
          "start_time": "2020-09-14T20:44:47.432516Z"
        },
        "cell_style": "split",
        "id": "nTsIFUX69Yv5",
        "outputId": "892abc9c-adab-44a1-8be1-5a82476ee746"
      },
      "source": [
        "# creating a DataFrame object from our series\n",
        "# and assigning index for each row\n",
        "df = pd.DataFrame( purchase , index=['Store 1', 'Store 1', 'Store 2'] )\n",
        "df.head() # to print the head of the dataframe-table"
      ],
      "execution_count": null,
      "outputs": [
        {
          "output_type": "execute_result",
          "data": {
            "text/html": [
              "<div>\n",
              "<style scoped>\n",
              "    .dataframe tbody tr th:only-of-type {\n",
              "        vertical-align: middle;\n",
              "    }\n",
              "\n",
              "    .dataframe tbody tr th {\n",
              "        vertical-align: top;\n",
              "    }\n",
              "\n",
              "    .dataframe thead th {\n",
              "        text-align: right;\n",
              "    }\n",
              "</style>\n",
              "<table border=\"1\" class=\"dataframe\">\n",
              "  <thead>\n",
              "    <tr style=\"text-align: right;\">\n",
              "      <th></th>\n",
              "      <th>Name</th>\n",
              "      <th>Item Purchased</th>\n",
              "      <th>Cost</th>\n",
              "    </tr>\n",
              "  </thead>\n",
              "  <tbody>\n",
              "    <tr>\n",
              "      <th>Store 1</th>\n",
              "      <td>Chris</td>\n",
              "      <td>Dog Food</td>\n",
              "      <td>22.5</td>\n",
              "    </tr>\n",
              "    <tr>\n",
              "      <th>Store 1</th>\n",
              "      <td>Kevyn</td>\n",
              "      <td>Kitty Litter</td>\n",
              "      <td>2.5</td>\n",
              "    </tr>\n",
              "    <tr>\n",
              "      <th>Store 2</th>\n",
              "      <td>Vinod</td>\n",
              "      <td>Bird Seed</td>\n",
              "      <td>5.0</td>\n",
              "    </tr>\n",
              "  </tbody>\n",
              "</table>\n",
              "</div>"
            ],
            "text/plain": [
              "          Name Item Purchased  Cost\n",
              "Store 1  Chris       Dog Food  22.5\n",
              "Store 1  Kevyn   Kitty Litter   2.5\n",
              "Store 2  Vinod      Bird Seed   5.0"
            ]
          },
          "metadata": {
            "tags": []
          },
          "execution_count": 63
        }
      ]
    },
    {
      "cell_type": "code",
      "metadata": {
        "ExecuteTime": {
          "end_time": "2020-09-14T20:10:22.014347Z",
          "start_time": "2020-09-14T20:10:21.990361Z"
        },
        "cell_style": "split",
        "id": "GgUwXbRL9YwE",
        "outputId": "2764adf4-9725-4d77-9e7e-02d3e2bea3ff"
      },
      "source": [
        "# accessing values by using labeled index\n",
        "df.loc['Store 2']  #same as  df.Store 2 "
      ],
      "execution_count": null,
      "outputs": [
        {
          "output_type": "execute_result",
          "data": {
            "text/plain": [
              "Name                  Vinod\n",
              "Item Purchased    Bird Seed\n",
              "Cost                      5\n",
              "Name: Store 2, dtype: object"
            ]
          },
          "metadata": {
            "tags": []
          },
          "execution_count": 12
        }
      ]
    },
    {
      "cell_type": "code",
      "metadata": {
        "ExecuteTime": {
          "end_time": "2020-09-14T20:11:14.758321Z",
          "start_time": "2020-09-14T20:11:14.743324Z"
        },
        "cell_style": "split",
        "id": "IZI6XvjI9YwS",
        "outputId": "d3e73d09-f395-4f85-d008-938e6895f83d"
      },
      "source": [
        "# let see the type of the variable returned\n",
        "type( df.loc['Store 2'] ) \n",
        "# because it's not retunring only one value\n",
        "# it returns a whole series"
      ],
      "execution_count": null,
      "outputs": [
        {
          "output_type": "execute_result",
          "data": {
            "text/plain": [
              "pandas.core.series.Series"
            ]
          },
          "metadata": {
            "tags": []
          },
          "execution_count": 14
        }
      ]
    },
    {
      "cell_type": "markdown",
      "metadata": {
        "id": "OGpxfuDm9Ywj"
      },
      "source": [
        "### How to extract values of data"
      ]
    },
    {
      "cell_type": "code",
      "metadata": {
        "ExecuteTime": {
          "end_time": "2020-09-14T20:15:05.199506Z",
          "start_time": "2020-09-14T20:15:05.177514Z"
        },
        "cell_style": "split",
        "id": "fOwsEttZ9Ywn",
        "outputId": "54f9e024-b437-420e-eb57-eb59ebe53651"
      },
      "source": [
        "# lets print the data again\n",
        "\n",
        "df.head()"
      ],
      "execution_count": null,
      "outputs": [
        {
          "output_type": "execute_result",
          "data": {
            "text/html": [
              "<div>\n",
              "<style scoped>\n",
              "    .dataframe tbody tr th:only-of-type {\n",
              "        vertical-align: middle;\n",
              "    }\n",
              "\n",
              "    .dataframe tbody tr th {\n",
              "        vertical-align: top;\n",
              "    }\n",
              "\n",
              "    .dataframe thead th {\n",
              "        text-align: right;\n",
              "    }\n",
              "</style>\n",
              "<table border=\"1\" class=\"dataframe\">\n",
              "  <thead>\n",
              "    <tr style=\"text-align: right;\">\n",
              "      <th></th>\n",
              "      <th>Name</th>\n",
              "      <th>Item Purchased</th>\n",
              "      <th>Cost</th>\n",
              "    </tr>\n",
              "  </thead>\n",
              "  <tbody>\n",
              "    <tr>\n",
              "      <th>Store 1</th>\n",
              "      <td>Chris</td>\n",
              "      <td>Dog Food</td>\n",
              "      <td>22.5</td>\n",
              "    </tr>\n",
              "    <tr>\n",
              "      <th>Store 1</th>\n",
              "      <td>Kevyn</td>\n",
              "      <td>Kitty Litter</td>\n",
              "      <td>2.5</td>\n",
              "    </tr>\n",
              "    <tr>\n",
              "      <th>Store 2</th>\n",
              "      <td>Vinod</td>\n",
              "      <td>Bird Seed</td>\n",
              "      <td>5.0</td>\n",
              "    </tr>\n",
              "  </tbody>\n",
              "</table>\n",
              "</div>"
            ],
            "text/plain": [
              "          Name Item Purchased  Cost\n",
              "Store 1  Chris       Dog Food  22.5\n",
              "Store 1  Kevyn   Kitty Litter   2.5\n",
              "Store 2  Vinod      Bird Seed   5.0"
            ]
          },
          "metadata": {
            "tags": []
          },
          "execution_count": 17
        }
      ]
    },
    {
      "cell_type": "markdown",
      "metadata": {
        "id": "dBfDSYcLD0wa"
      },
      "source": [
        "![Pandas-selections-and-indexing.png](data:image/png;base64,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)"
      ]
    },
    {
      "cell_type": "code",
      "metadata": {
        "ExecuteTime": {
          "end_time": "2020-09-14T20:14:51.322768Z",
          "start_time": "2020-09-14T20:14:51.311774Z"
        },
        "cell_style": "split",
        "id": "WOM8hu5D9Ywy",
        "outputId": "4b286d6f-688f-4bdc-994b-af28ab78ad5c"
      },
      "source": [
        "# using label index to specify the row and column names\n",
        "# it returns pandas series again as it's not only one value\n",
        "print( type( df.loc['Store 1', 'Cost'] ) )\n",
        "df.loc['Store 1', 'Cost']"
      ],
      "execution_count": null,
      "outputs": [
        {
          "output_type": "stream",
          "text": [
            "<class 'pandas.core.series.Series'>\n"
          ],
          "name": "stdout"
        },
        {
          "output_type": "execute_result",
          "data": {
            "text/plain": [
              "Store 1    22.5\n",
              "Store 1     2.5\n",
              "Name: Cost, dtype: float64"
            ]
          },
          "metadata": {
            "tags": []
          },
          "execution_count": 16
        }
      ]
    },
    {
      "cell_type": "code",
      "metadata": {
        "ExecuteTime": {
          "end_time": "2020-09-14T20:15:59.285584Z",
          "start_time": "2020-09-14T20:15:59.256600Z"
        },
        "cell_style": "split",
        "id": "w6rb8fIn9Yw9",
        "outputId": "28e98768-2050-41df-d655-8bd224cca128"
      },
      "source": [
        "# using the transpose method \n",
        "df.T"
      ],
      "execution_count": null,
      "outputs": [
        {
          "output_type": "execute_result",
          "data": {
            "text/html": [
              "<div>\n",
              "<style scoped>\n",
              "    .dataframe tbody tr th:only-of-type {\n",
              "        vertical-align: middle;\n",
              "    }\n",
              "\n",
              "    .dataframe tbody tr th {\n",
              "        vertical-align: top;\n",
              "    }\n",
              "\n",
              "    .dataframe thead th {\n",
              "        text-align: right;\n",
              "    }\n",
              "</style>\n",
              "<table border=\"1\" class=\"dataframe\">\n",
              "  <thead>\n",
              "    <tr style=\"text-align: right;\">\n",
              "      <th></th>\n",
              "      <th>Store 1</th>\n",
              "      <th>Store 1</th>\n",
              "      <th>Store 2</th>\n",
              "    </tr>\n",
              "  </thead>\n",
              "  <tbody>\n",
              "    <tr>\n",
              "      <th>Name</th>\n",
              "      <td>Chris</td>\n",
              "      <td>Kevyn</td>\n",
              "      <td>Vinod</td>\n",
              "    </tr>\n",
              "    <tr>\n",
              "      <th>Item Purchased</th>\n",
              "      <td>Dog Food</td>\n",
              "      <td>Kitty Litter</td>\n",
              "      <td>Bird Seed</td>\n",
              "    </tr>\n",
              "    <tr>\n",
              "      <th>Cost</th>\n",
              "      <td>22.5</td>\n",
              "      <td>2.5</td>\n",
              "      <td>5</td>\n",
              "    </tr>\n",
              "  </tbody>\n",
              "</table>\n",
              "</div>"
            ],
            "text/plain": [
              "                 Store 1       Store 1    Store 2\n",
              "Name               Chris         Kevyn      Vinod\n",
              "Item Purchased  Dog Food  Kitty Litter  Bird Seed\n",
              "Cost                22.5           2.5          5"
            ]
          },
          "metadata": {
            "tags": []
          },
          "execution_count": 18
        }
      ]
    },
    {
      "cell_type": "code",
      "metadata": {
        "ExecuteTime": {
          "end_time": "2020-09-14T20:17:17.924506Z",
          "start_time": "2020-09-14T20:17:17.912514Z"
        },
        "cell_style": "split",
        "id": "chEbyweG9YxQ",
        "outputId": "39ba757a-cec8-470a-84e4-d1e8b1d43eb0"
      },
      "source": [
        "# getting the index of both df and df.T\n",
        "print( df.T.index  ) # index of transposed\n",
        "\n",
        "print( df.index )# index of normal df\n"
      ],
      "execution_count": null,
      "outputs": [
        {
          "output_type": "stream",
          "text": [
            "Index(['Name', 'Item Purchased', 'Cost'], dtype='object')\n",
            "Index(['Store 1', 'Store 1', 'Store 2'], dtype='object')\n"
          ],
          "name": "stdout"
        }
      ]
    },
    {
      "cell_type": "code",
      "metadata": {
        "ExecuteTime": {
          "end_time": "2020-09-14T20:18:48.382489Z",
          "start_time": "2020-09-14T20:18:48.368496Z"
        },
        "cell_style": "split",
        "id": "aPyfICNm9Yxb",
        "outputId": "66fb80ee-e31d-4885-d335-3ad5b4dd9b7c"
      },
      "source": [
        "df.head()"
      ],
      "execution_count": null,
      "outputs": [
        {
          "output_type": "execute_result",
          "data": {
            "text/html": [
              "<div>\n",
              "<style scoped>\n",
              "    .dataframe tbody tr th:only-of-type {\n",
              "        vertical-align: middle;\n",
              "    }\n",
              "\n",
              "    .dataframe tbody tr th {\n",
              "        vertical-align: top;\n",
              "    }\n",
              "\n",
              "    .dataframe thead th {\n",
              "        text-align: right;\n",
              "    }\n",
              "</style>\n",
              "<table border=\"1\" class=\"dataframe\">\n",
              "  <thead>\n",
              "    <tr style=\"text-align: right;\">\n",
              "      <th></th>\n",
              "      <th>Name</th>\n",
              "      <th>Item Purchased</th>\n",
              "      <th>Cost</th>\n",
              "    </tr>\n",
              "  </thead>\n",
              "  <tbody>\n",
              "    <tr>\n",
              "      <th>Store 1</th>\n",
              "      <td>Chris</td>\n",
              "      <td>Dog Food</td>\n",
              "      <td>22.5</td>\n",
              "    </tr>\n",
              "    <tr>\n",
              "      <th>Store 1</th>\n",
              "      <td>Kevyn</td>\n",
              "      <td>Kitty Litter</td>\n",
              "      <td>2.5</td>\n",
              "    </tr>\n",
              "    <tr>\n",
              "      <th>Store 2</th>\n",
              "      <td>Vinod</td>\n",
              "      <td>Bird Seed</td>\n",
              "      <td>5.0</td>\n",
              "    </tr>\n",
              "  </tbody>\n",
              "</table>\n",
              "</div>"
            ],
            "text/plain": [
              "          Name Item Purchased  Cost\n",
              "Store 1  Chris       Dog Food  22.5\n",
              "Store 1  Kevyn   Kitty Litter   2.5\n",
              "Store 2  Vinod      Bird Seed   5.0"
            ]
          },
          "metadata": {
            "tags": []
          },
          "execution_count": 25
        }
      ]
    },
    {
      "cell_type": "code",
      "metadata": {
        "ExecuteTime": {
          "end_time": "2020-09-14T20:19:56.788260Z",
          "start_time": "2020-09-14T20:19:56.612344Z"
        },
        "cell_style": "split",
        "id": "sB8f4lo19Yxp",
        "outputId": "2ccbe19f-dec6-4e78-ea53-37945ee8fb05"
      },
      "source": [
        "# can't use index-based indexing like this \n",
        "\n",
        "df.iloc[ 0 , 'Name']\n"
      ],
      "execution_count": null,
      "outputs": [
        {
          "output_type": "error",
          "ename": "ValueError",
          "evalue": "Location based indexing can only have [integer, integer slice (START point is INCLUDED, END point is EXCLUDED), listlike of integers, boolean array] types",
          "traceback": [
            "\u001b[1;31m---------------------------------------------------------------------------\u001b[0m",
            "\u001b[1;31mValueError\u001b[0m                                Traceback (most recent call last)",
            "\u001b[1;32mC:\\ProgramData\\Anaconda3\\lib\\site-packages\\pandas\\core\\indexing.py\u001b[0m in \u001b[0;36m_has_valid_tuple\u001b[1;34m(self, key)\u001b[0m\n\u001b[0;32m    701\u001b[0m             \u001b[1;32mtry\u001b[0m\u001b[1;33m:\u001b[0m\u001b[1;33m\u001b[0m\u001b[1;33m\u001b[0m\u001b[0m\n\u001b[1;32m--> 702\u001b[1;33m                 \u001b[0mself\u001b[0m\u001b[1;33m.\u001b[0m\u001b[0m_validate_key\u001b[0m\u001b[1;33m(\u001b[0m\u001b[0mk\u001b[0m\u001b[1;33m,\u001b[0m \u001b[0mi\u001b[0m\u001b[1;33m)\u001b[0m\u001b[1;33m\u001b[0m\u001b[1;33m\u001b[0m\u001b[0m\n\u001b[0m\u001b[0;32m    703\u001b[0m             \u001b[1;32mexcept\u001b[0m \u001b[0mValueError\u001b[0m \u001b[1;32mas\u001b[0m \u001b[0merr\u001b[0m\u001b[1;33m:\u001b[0m\u001b[1;33m\u001b[0m\u001b[1;33m\u001b[0m\u001b[0m\n",
            "\u001b[1;32mC:\\ProgramData\\Anaconda3\\lib\\site-packages\\pandas\\core\\indexing.py\u001b[0m in \u001b[0;36m_validate_key\u001b[1;34m(self, key, axis)\u001b[0m\n\u001b[0;32m   1368\u001b[0m         \u001b[1;32melse\u001b[0m\u001b[1;33m:\u001b[0m\u001b[1;33m\u001b[0m\u001b[1;33m\u001b[0m\u001b[0m\n\u001b[1;32m-> 1369\u001b[1;33m             \u001b[1;32mraise\u001b[0m \u001b[0mValueError\u001b[0m\u001b[1;33m(\u001b[0m\u001b[1;34mf\"Can only index by location with a [{self._valid_types}]\"\u001b[0m\u001b[1;33m)\u001b[0m\u001b[1;33m\u001b[0m\u001b[1;33m\u001b[0m\u001b[0m\n\u001b[0m\u001b[0;32m   1370\u001b[0m \u001b[1;33m\u001b[0m\u001b[0m\n",
            "\u001b[1;31mValueError\u001b[0m: Can only index by location with a [integer, integer slice (START point is INCLUDED, END point is EXCLUDED), listlike of integers, boolean array]",
            "\nThe above exception was the direct cause of the following exception:\n",
            "\u001b[1;31mValueError\u001b[0m                                Traceback (most recent call last)",
            "\u001b[1;32m<ipython-input-27-ec20cc11c3ca>\u001b[0m in \u001b[0;36m<module>\u001b[1;34m\u001b[0m\n\u001b[1;32m----> 1\u001b[1;33m \u001b[0mdf\u001b[0m\u001b[1;33m.\u001b[0m\u001b[0miloc\u001b[0m\u001b[1;33m[\u001b[0m\u001b[1;36m0\u001b[0m \u001b[1;33m,\u001b[0m \u001b[1;34m'Name'\u001b[0m\u001b[1;33m]\u001b[0m\u001b[1;33m\u001b[0m\u001b[1;33m\u001b[0m\u001b[0m\n\u001b[0m",
            "\u001b[1;32mC:\\ProgramData\\Anaconda3\\lib\\site-packages\\pandas\\core\\indexing.py\u001b[0m in \u001b[0;36m__getitem__\u001b[1;34m(self, key)\u001b[0m\n\u001b[0;32m    871\u001b[0m                     \u001b[1;31m# AttributeError for IntervalTree get_value\u001b[0m\u001b[1;33m\u001b[0m\u001b[1;33m\u001b[0m\u001b[1;33m\u001b[0m\u001b[0m\n\u001b[0;32m    872\u001b[0m                     \u001b[1;32mpass\u001b[0m\u001b[1;33m\u001b[0m\u001b[1;33m\u001b[0m\u001b[0m\n\u001b[1;32m--> 873\u001b[1;33m             \u001b[1;32mreturn\u001b[0m \u001b[0mself\u001b[0m\u001b[1;33m.\u001b[0m\u001b[0m_getitem_tuple\u001b[0m\u001b[1;33m(\u001b[0m\u001b[0mkey\u001b[0m\u001b[1;33m)\u001b[0m\u001b[1;33m\u001b[0m\u001b[1;33m\u001b[0m\u001b[0m\n\u001b[0m\u001b[0;32m    874\u001b[0m         \u001b[1;32melse\u001b[0m\u001b[1;33m:\u001b[0m\u001b[1;33m\u001b[0m\u001b[1;33m\u001b[0m\u001b[0m\n\u001b[0;32m    875\u001b[0m             \u001b[1;31m# we by definition only have the 0th axis\u001b[0m\u001b[1;33m\u001b[0m\u001b[1;33m\u001b[0m\u001b[1;33m\u001b[0m\u001b[0m\n",
            "\u001b[1;32mC:\\ProgramData\\Anaconda3\\lib\\site-packages\\pandas\\core\\indexing.py\u001b[0m in \u001b[0;36m_getitem_tuple\u001b[1;34m(self, tup)\u001b[0m\n\u001b[0;32m   1441\u001b[0m     \u001b[1;32mdef\u001b[0m \u001b[0m_getitem_tuple\u001b[0m\u001b[1;33m(\u001b[0m\u001b[0mself\u001b[0m\u001b[1;33m,\u001b[0m \u001b[0mtup\u001b[0m\u001b[1;33m:\u001b[0m \u001b[0mTuple\u001b[0m\u001b[1;33m)\u001b[0m\u001b[1;33m:\u001b[0m\u001b[1;33m\u001b[0m\u001b[1;33m\u001b[0m\u001b[0m\n\u001b[0;32m   1442\u001b[0m \u001b[1;33m\u001b[0m\u001b[0m\n\u001b[1;32m-> 1443\u001b[1;33m         \u001b[0mself\u001b[0m\u001b[1;33m.\u001b[0m\u001b[0m_has_valid_tuple\u001b[0m\u001b[1;33m(\u001b[0m\u001b[0mtup\u001b[0m\u001b[1;33m)\u001b[0m\u001b[1;33m\u001b[0m\u001b[1;33m\u001b[0m\u001b[0m\n\u001b[0m\u001b[0;32m   1444\u001b[0m         \u001b[1;32mtry\u001b[0m\u001b[1;33m:\u001b[0m\u001b[1;33m\u001b[0m\u001b[1;33m\u001b[0m\u001b[0m\n\u001b[0;32m   1445\u001b[0m             \u001b[1;32mreturn\u001b[0m \u001b[0mself\u001b[0m\u001b[1;33m.\u001b[0m\u001b[0m_getitem_lowerdim\u001b[0m\u001b[1;33m(\u001b[0m\u001b[0mtup\u001b[0m\u001b[1;33m)\u001b[0m\u001b[1;33m\u001b[0m\u001b[1;33m\u001b[0m\u001b[0m\n",
            "\u001b[1;32mC:\\ProgramData\\Anaconda3\\lib\\site-packages\\pandas\\core\\indexing.py\u001b[0m in \u001b[0;36m_has_valid_tuple\u001b[1;34m(self, key)\u001b[0m\n\u001b[0;32m    705\u001b[0m                     \u001b[1;34m\"Location based indexing can only have \"\u001b[0m\u001b[1;33m\u001b[0m\u001b[1;33m\u001b[0m\u001b[0m\n\u001b[0;32m    706\u001b[0m                     \u001b[1;34mf\"[{self._valid_types}] types\"\u001b[0m\u001b[1;33m\u001b[0m\u001b[1;33m\u001b[0m\u001b[0m\n\u001b[1;32m--> 707\u001b[1;33m                 ) from err\n\u001b[0m\u001b[0;32m    708\u001b[0m \u001b[1;33m\u001b[0m\u001b[0m\n\u001b[0;32m    709\u001b[0m     \u001b[1;32mdef\u001b[0m \u001b[0m_is_nested_tuple_indexer\u001b[0m\u001b[1;33m(\u001b[0m\u001b[0mself\u001b[0m\u001b[1;33m,\u001b[0m \u001b[0mtup\u001b[0m\u001b[1;33m:\u001b[0m \u001b[0mTuple\u001b[0m\u001b[1;33m)\u001b[0m \u001b[1;33m->\u001b[0m \u001b[0mbool\u001b[0m\u001b[1;33m:\u001b[0m\u001b[1;33m\u001b[0m\u001b[1;33m\u001b[0m\u001b[0m\n",
            "\u001b[1;31mValueError\u001b[0m: Location based indexing can only have [integer, integer slice (START point is INCLUDED, END point is EXCLUDED), listlike of integers, boolean array] types"
          ]
        }
      ]
    },
    {
      "cell_type": "code",
      "metadata": {
        "ExecuteTime": {
          "end_time": "2020-09-14T20:21:57.143510Z",
          "start_time": "2020-09-14T20:21:57.135514Z"
        },
        "cell_style": "split",
        "id": "kTyoxC_G9Yx8",
        "outputId": "bcd12ba9-940f-4afc-a0e3-0e290679e397"
      },
      "source": [
        "# you need to only provide int values or intervals\n",
        "\n",
        "df.iloc[ 0 , 0 ] "
      ],
      "execution_count": null,
      "outputs": [
        {
          "output_type": "execute_result",
          "data": {
            "text/plain": [
              "'Chris'"
            ]
          },
          "metadata": {
            "tags": []
          },
          "execution_count": 29
        }
      ]
    },
    {
      "cell_type": "code",
      "metadata": {
        "ExecuteTime": {
          "end_time": "2020-09-14T20:22:14.191898Z",
          "start_time": "2020-09-14T20:22:14.173908Z"
        },
        "cell_style": "split",
        "scrolled": true,
        "id": "5Vvu28te9YyV",
        "outputId": "5a6daf3f-4b69-4c35-ede4-8d7f64f10082"
      },
      "source": [
        "df.iloc[ 0 , : ]  # will print all col. for row one"
      ],
      "execution_count": null,
      "outputs": [
        {
          "output_type": "execute_result",
          "data": {
            "text/plain": [
              "Name                 Chris\n",
              "Item Purchased    Dog Food\n",
              "Cost                  22.5\n",
              "Name: Store 1, dtype: object"
            ]
          },
          "metadata": {
            "tags": []
          },
          "execution_count": 30
        }
      ]
    },
    {
      "cell_type": "code",
      "metadata": {
        "ExecuteTime": {
          "end_time": "2020-09-14T20:23:04.327396Z",
          "start_time": "2020-09-14T20:23:04.264536Z"
        },
        "cell_style": "split",
        "id": "dGjln5nQ9Yyg",
        "outputId": "58f9d539-6501-4f9d-e806-b58aa586b3a6"
      },
      "source": [
        "# same as before you can either use string for calling or use intervals\n",
        "\n",
        "df.loc[0 , 'Name']"
      ],
      "execution_count": null,
      "outputs": [
        {
          "output_type": "error",
          "ename": "KeyError",
          "evalue": "0",
          "traceback": [
            "\u001b[1;31m---------------------------------------------------------------------------\u001b[0m",
            "\u001b[1;31mTypeError\u001b[0m                                 Traceback (most recent call last)",
            "\u001b[1;32mpandas\\_libs\\index.pyx\u001b[0m in \u001b[0;36mpandas._libs.index.IndexEngine._get_loc_duplicates\u001b[1;34m()\u001b[0m\n",
            "\u001b[1;31mTypeError\u001b[0m: '<' not supported between instances of 'str' and 'int'",
            "\nDuring handling of the above exception, another exception occurred:\n",
            "\u001b[1;31mKeyError\u001b[0m                                  Traceback (most recent call last)",
            "\u001b[1;32mC:\\ProgramData\\Anaconda3\\lib\\site-packages\\pandas\\core\\indexes\\base.py\u001b[0m in \u001b[0;36mget_loc\u001b[1;34m(self, key, method, tolerance)\u001b[0m\n\u001b[0;32m   2888\u001b[0m             \u001b[1;32mtry\u001b[0m\u001b[1;33m:\u001b[0m\u001b[1;33m\u001b[0m\u001b[1;33m\u001b[0m\u001b[0m\n\u001b[1;32m-> 2889\u001b[1;33m                 \u001b[1;32mreturn\u001b[0m \u001b[0mself\u001b[0m\u001b[1;33m.\u001b[0m\u001b[0m_engine\u001b[0m\u001b[1;33m.\u001b[0m\u001b[0mget_loc\u001b[0m\u001b[1;33m(\u001b[0m\u001b[0mcasted_key\u001b[0m\u001b[1;33m)\u001b[0m\u001b[1;33m\u001b[0m\u001b[1;33m\u001b[0m\u001b[0m\n\u001b[0m\u001b[0;32m   2890\u001b[0m             \u001b[1;32mexcept\u001b[0m \u001b[0mKeyError\u001b[0m \u001b[1;32mas\u001b[0m \u001b[0merr\u001b[0m\u001b[1;33m:\u001b[0m\u001b[1;33m\u001b[0m\u001b[1;33m\u001b[0m\u001b[0m\n",
            "\u001b[1;32mpandas\\_libs\\index.pyx\u001b[0m in \u001b[0;36mpandas._libs.index.IndexEngine.get_loc\u001b[1;34m()\u001b[0m\n",
            "\u001b[1;32mpandas\\_libs\\index.pyx\u001b[0m in \u001b[0;36mpandas._libs.index.IndexEngine.get_loc\u001b[1;34m()\u001b[0m\n",
            "\u001b[1;32mpandas\\_libs\\index.pyx\u001b[0m in \u001b[0;36mpandas._libs.index.IndexEngine._get_loc_duplicates\u001b[1;34m()\u001b[0m\n",
            "\u001b[1;31mKeyError\u001b[0m: 0",
            "\nThe above exception was the direct cause of the following exception:\n",
            "\u001b[1;31mKeyError\u001b[0m                                  Traceback (most recent call last)",
            "\u001b[1;32m<ipython-input-31-bef20a03d456>\u001b[0m in \u001b[0;36m<module>\u001b[1;34m\u001b[0m\n\u001b[1;32m----> 1\u001b[1;33m \u001b[0mdf\u001b[0m\u001b[1;33m.\u001b[0m\u001b[0mloc\u001b[0m\u001b[1;33m[\u001b[0m\u001b[1;36m0\u001b[0m \u001b[1;33m,\u001b[0m \u001b[1;34m'Name'\u001b[0m\u001b[1;33m]\u001b[0m\u001b[1;33m\u001b[0m\u001b[1;33m\u001b[0m\u001b[0m\n\u001b[0m",
            "\u001b[1;32mC:\\ProgramData\\Anaconda3\\lib\\site-packages\\pandas\\core\\indexing.py\u001b[0m in \u001b[0;36m__getitem__\u001b[1;34m(self, key)\u001b[0m\n\u001b[0;32m    871\u001b[0m                     \u001b[1;31m# AttributeError for IntervalTree get_value\u001b[0m\u001b[1;33m\u001b[0m\u001b[1;33m\u001b[0m\u001b[1;33m\u001b[0m\u001b[0m\n\u001b[0;32m    872\u001b[0m                     \u001b[1;32mpass\u001b[0m\u001b[1;33m\u001b[0m\u001b[1;33m\u001b[0m\u001b[0m\n\u001b[1;32m--> 873\u001b[1;33m             \u001b[1;32mreturn\u001b[0m \u001b[0mself\u001b[0m\u001b[1;33m.\u001b[0m\u001b[0m_getitem_tuple\u001b[0m\u001b[1;33m(\u001b[0m\u001b[0mkey\u001b[0m\u001b[1;33m)\u001b[0m\u001b[1;33m\u001b[0m\u001b[1;33m\u001b[0m\u001b[0m\n\u001b[0m\u001b[0;32m    874\u001b[0m         \u001b[1;32melse\u001b[0m\u001b[1;33m:\u001b[0m\u001b[1;33m\u001b[0m\u001b[1;33m\u001b[0m\u001b[0m\n\u001b[0;32m    875\u001b[0m             \u001b[1;31m# we by definition only have the 0th axis\u001b[0m\u001b[1;33m\u001b[0m\u001b[1;33m\u001b[0m\u001b[1;33m\u001b[0m\u001b[0m\n",
            "\u001b[1;32mC:\\ProgramData\\Anaconda3\\lib\\site-packages\\pandas\\core\\indexing.py\u001b[0m in \u001b[0;36m_getitem_tuple\u001b[1;34m(self, tup)\u001b[0m\n\u001b[0;32m   1042\u001b[0m     \u001b[1;32mdef\u001b[0m \u001b[0m_getitem_tuple\u001b[0m\u001b[1;33m(\u001b[0m\u001b[0mself\u001b[0m\u001b[1;33m,\u001b[0m \u001b[0mtup\u001b[0m\u001b[1;33m:\u001b[0m \u001b[0mTuple\u001b[0m\u001b[1;33m)\u001b[0m\u001b[1;33m:\u001b[0m\u001b[1;33m\u001b[0m\u001b[1;33m\u001b[0m\u001b[0m\n\u001b[0;32m   1043\u001b[0m         \u001b[1;32mtry\u001b[0m\u001b[1;33m:\u001b[0m\u001b[1;33m\u001b[0m\u001b[1;33m\u001b[0m\u001b[0m\n\u001b[1;32m-> 1044\u001b[1;33m             \u001b[1;32mreturn\u001b[0m \u001b[0mself\u001b[0m\u001b[1;33m.\u001b[0m\u001b[0m_getitem_lowerdim\u001b[0m\u001b[1;33m(\u001b[0m\u001b[0mtup\u001b[0m\u001b[1;33m)\u001b[0m\u001b[1;33m\u001b[0m\u001b[1;33m\u001b[0m\u001b[0m\n\u001b[0m\u001b[0;32m   1045\u001b[0m         \u001b[1;32mexcept\u001b[0m \u001b[0mIndexingError\u001b[0m\u001b[1;33m:\u001b[0m\u001b[1;33m\u001b[0m\u001b[1;33m\u001b[0m\u001b[0m\n\u001b[0;32m   1046\u001b[0m             \u001b[1;32mpass\u001b[0m\u001b[1;33m\u001b[0m\u001b[1;33m\u001b[0m\u001b[0m\n",
            "\u001b[1;32mC:\\ProgramData\\Anaconda3\\lib\\site-packages\\pandas\\core\\indexing.py\u001b[0m in \u001b[0;36m_getitem_lowerdim\u001b[1;34m(self, tup)\u001b[0m\n\u001b[0;32m    784\u001b[0m                 \u001b[1;31m# We don't need to check for tuples here because those are\u001b[0m\u001b[1;33m\u001b[0m\u001b[1;33m\u001b[0m\u001b[1;33m\u001b[0m\u001b[0m\n\u001b[0;32m    785\u001b[0m                 \u001b[1;31m#  caught by the _is_nested_tuple_indexer check above.\u001b[0m\u001b[1;33m\u001b[0m\u001b[1;33m\u001b[0m\u001b[1;33m\u001b[0m\u001b[0m\n\u001b[1;32m--> 786\u001b[1;33m                 \u001b[0msection\u001b[0m \u001b[1;33m=\u001b[0m \u001b[0mself\u001b[0m\u001b[1;33m.\u001b[0m\u001b[0m_getitem_axis\u001b[0m\u001b[1;33m(\u001b[0m\u001b[0mkey\u001b[0m\u001b[1;33m,\u001b[0m \u001b[0maxis\u001b[0m\u001b[1;33m=\u001b[0m\u001b[0mi\u001b[0m\u001b[1;33m)\u001b[0m\u001b[1;33m\u001b[0m\u001b[1;33m\u001b[0m\u001b[0m\n\u001b[0m\u001b[0;32m    787\u001b[0m \u001b[1;33m\u001b[0m\u001b[0m\n\u001b[0;32m    788\u001b[0m                 \u001b[1;31m# We should never have a scalar section here, because\u001b[0m\u001b[1;33m\u001b[0m\u001b[1;33m\u001b[0m\u001b[1;33m\u001b[0m\u001b[0m\n",
            "\u001b[1;32mC:\\ProgramData\\Anaconda3\\lib\\site-packages\\pandas\\core\\indexing.py\u001b[0m in \u001b[0;36m_getitem_axis\u001b[1;34m(self, key, axis)\u001b[0m\n\u001b[0;32m   1108\u001b[0m         \u001b[1;31m# fall thru to straight lookup\u001b[0m\u001b[1;33m\u001b[0m\u001b[1;33m\u001b[0m\u001b[1;33m\u001b[0m\u001b[0m\n\u001b[0;32m   1109\u001b[0m         \u001b[0mself\u001b[0m\u001b[1;33m.\u001b[0m\u001b[0m_validate_key\u001b[0m\u001b[1;33m(\u001b[0m\u001b[0mkey\u001b[0m\u001b[1;33m,\u001b[0m \u001b[0maxis\u001b[0m\u001b[1;33m)\u001b[0m\u001b[1;33m\u001b[0m\u001b[1;33m\u001b[0m\u001b[0m\n\u001b[1;32m-> 1110\u001b[1;33m         \u001b[1;32mreturn\u001b[0m \u001b[0mself\u001b[0m\u001b[1;33m.\u001b[0m\u001b[0m_get_label\u001b[0m\u001b[1;33m(\u001b[0m\u001b[0mkey\u001b[0m\u001b[1;33m,\u001b[0m \u001b[0maxis\u001b[0m\u001b[1;33m=\u001b[0m\u001b[0maxis\u001b[0m\u001b[1;33m)\u001b[0m\u001b[1;33m\u001b[0m\u001b[1;33m\u001b[0m\u001b[0m\n\u001b[0m\u001b[0;32m   1111\u001b[0m \u001b[1;33m\u001b[0m\u001b[0m\n\u001b[0;32m   1112\u001b[0m     \u001b[1;32mdef\u001b[0m \u001b[0m_get_slice_axis\u001b[0m\u001b[1;33m(\u001b[0m\u001b[0mself\u001b[0m\u001b[1;33m,\u001b[0m \u001b[0mslice_obj\u001b[0m\u001b[1;33m:\u001b[0m \u001b[0mslice\u001b[0m\u001b[1;33m,\u001b[0m \u001b[0maxis\u001b[0m\u001b[1;33m:\u001b[0m \u001b[0mint\u001b[0m\u001b[1;33m)\u001b[0m\u001b[1;33m:\u001b[0m\u001b[1;33m\u001b[0m\u001b[1;33m\u001b[0m\u001b[0m\n",
            "\u001b[1;32mC:\\ProgramData\\Anaconda3\\lib\\site-packages\\pandas\\core\\indexing.py\u001b[0m in \u001b[0;36m_get_label\u001b[1;34m(self, label, axis)\u001b[0m\n\u001b[0;32m   1057\u001b[0m     \u001b[1;32mdef\u001b[0m \u001b[0m_get_label\u001b[0m\u001b[1;33m(\u001b[0m\u001b[0mself\u001b[0m\u001b[1;33m,\u001b[0m \u001b[0mlabel\u001b[0m\u001b[1;33m,\u001b[0m \u001b[0maxis\u001b[0m\u001b[1;33m:\u001b[0m \u001b[0mint\u001b[0m\u001b[1;33m)\u001b[0m\u001b[1;33m:\u001b[0m\u001b[1;33m\u001b[0m\u001b[1;33m\u001b[0m\u001b[0m\n\u001b[0;32m   1058\u001b[0m         \u001b[1;31m# GH#5667 this will fail if the label is not present in the axis.\u001b[0m\u001b[1;33m\u001b[0m\u001b[1;33m\u001b[0m\u001b[1;33m\u001b[0m\u001b[0m\n\u001b[1;32m-> 1059\u001b[1;33m         \u001b[1;32mreturn\u001b[0m \u001b[0mself\u001b[0m\u001b[1;33m.\u001b[0m\u001b[0mobj\u001b[0m\u001b[1;33m.\u001b[0m\u001b[0mxs\u001b[0m\u001b[1;33m(\u001b[0m\u001b[0mlabel\u001b[0m\u001b[1;33m,\u001b[0m \u001b[0maxis\u001b[0m\u001b[1;33m=\u001b[0m\u001b[0maxis\u001b[0m\u001b[1;33m)\u001b[0m\u001b[1;33m\u001b[0m\u001b[1;33m\u001b[0m\u001b[0m\n\u001b[0m\u001b[0;32m   1060\u001b[0m \u001b[1;33m\u001b[0m\u001b[0m\n\u001b[0;32m   1061\u001b[0m     \u001b[1;32mdef\u001b[0m \u001b[0m_handle_lowerdim_multi_index_axis0\u001b[0m\u001b[1;33m(\u001b[0m\u001b[0mself\u001b[0m\u001b[1;33m,\u001b[0m \u001b[0mtup\u001b[0m\u001b[1;33m:\u001b[0m \u001b[0mTuple\u001b[0m\u001b[1;33m)\u001b[0m\u001b[1;33m:\u001b[0m\u001b[1;33m\u001b[0m\u001b[1;33m\u001b[0m\u001b[0m\n",
            "\u001b[1;32mC:\\ProgramData\\Anaconda3\\lib\\site-packages\\pandas\\core\\generic.py\u001b[0m in \u001b[0;36mxs\u001b[1;34m(self, key, axis, level, drop_level)\u001b[0m\n\u001b[0;32m   3480\u001b[0m             \u001b[0mloc\u001b[0m\u001b[1;33m,\u001b[0m \u001b[0mnew_index\u001b[0m \u001b[1;33m=\u001b[0m \u001b[0mself\u001b[0m\u001b[1;33m.\u001b[0m\u001b[0mindex\u001b[0m\u001b[1;33m.\u001b[0m\u001b[0mget_loc_level\u001b[0m\u001b[1;33m(\u001b[0m\u001b[0mkey\u001b[0m\u001b[1;33m,\u001b[0m \u001b[0mdrop_level\u001b[0m\u001b[1;33m=\u001b[0m\u001b[0mdrop_level\u001b[0m\u001b[1;33m)\u001b[0m\u001b[1;33m\u001b[0m\u001b[1;33m\u001b[0m\u001b[0m\n\u001b[0;32m   3481\u001b[0m         \u001b[1;32melse\u001b[0m\u001b[1;33m:\u001b[0m\u001b[1;33m\u001b[0m\u001b[1;33m\u001b[0m\u001b[0m\n\u001b[1;32m-> 3482\u001b[1;33m             \u001b[0mloc\u001b[0m \u001b[1;33m=\u001b[0m \u001b[0mself\u001b[0m\u001b[1;33m.\u001b[0m\u001b[0mindex\u001b[0m\u001b[1;33m.\u001b[0m\u001b[0mget_loc\u001b[0m\u001b[1;33m(\u001b[0m\u001b[0mkey\u001b[0m\u001b[1;33m)\u001b[0m\u001b[1;33m\u001b[0m\u001b[1;33m\u001b[0m\u001b[0m\n\u001b[0m\u001b[0;32m   3483\u001b[0m \u001b[1;33m\u001b[0m\u001b[0m\n\u001b[0;32m   3484\u001b[0m             \u001b[1;32mif\u001b[0m \u001b[0misinstance\u001b[0m\u001b[1;33m(\u001b[0m\u001b[0mloc\u001b[0m\u001b[1;33m,\u001b[0m \u001b[0mnp\u001b[0m\u001b[1;33m.\u001b[0m\u001b[0mndarray\u001b[0m\u001b[1;33m)\u001b[0m\u001b[1;33m:\u001b[0m\u001b[1;33m\u001b[0m\u001b[1;33m\u001b[0m\u001b[0m\n",
            "\u001b[1;32mC:\\ProgramData\\Anaconda3\\lib\\site-packages\\pandas\\core\\indexes\\base.py\u001b[0m in \u001b[0;36mget_loc\u001b[1;34m(self, key, method, tolerance)\u001b[0m\n\u001b[0;32m   2889\u001b[0m                 \u001b[1;32mreturn\u001b[0m \u001b[0mself\u001b[0m\u001b[1;33m.\u001b[0m\u001b[0m_engine\u001b[0m\u001b[1;33m.\u001b[0m\u001b[0mget_loc\u001b[0m\u001b[1;33m(\u001b[0m\u001b[0mcasted_key\u001b[0m\u001b[1;33m)\u001b[0m\u001b[1;33m\u001b[0m\u001b[1;33m\u001b[0m\u001b[0m\n\u001b[0;32m   2890\u001b[0m             \u001b[1;32mexcept\u001b[0m \u001b[0mKeyError\u001b[0m \u001b[1;32mas\u001b[0m \u001b[0merr\u001b[0m\u001b[1;33m:\u001b[0m\u001b[1;33m\u001b[0m\u001b[1;33m\u001b[0m\u001b[0m\n\u001b[1;32m-> 2891\u001b[1;33m                 \u001b[1;32mraise\u001b[0m \u001b[0mKeyError\u001b[0m\u001b[1;33m(\u001b[0m\u001b[0mkey\u001b[0m\u001b[1;33m)\u001b[0m \u001b[1;32mfrom\u001b[0m \u001b[0merr\u001b[0m\u001b[1;33m\u001b[0m\u001b[1;33m\u001b[0m\u001b[0m\n\u001b[0m\u001b[0;32m   2892\u001b[0m \u001b[1;33m\u001b[0m\u001b[0m\n\u001b[0;32m   2893\u001b[0m         \u001b[1;32mif\u001b[0m \u001b[0mtolerance\u001b[0m \u001b[1;32mis\u001b[0m \u001b[1;32mnot\u001b[0m \u001b[1;32mNone\u001b[0m\u001b[1;33m:\u001b[0m\u001b[1;33m\u001b[0m\u001b[1;33m\u001b[0m\u001b[0m\n",
            "\u001b[1;31mKeyError\u001b[0m: 0"
          ]
        }
      ]
    },
    {
      "cell_type": "code",
      "metadata": {
        "ExecuteTime": {
          "end_time": "2020-09-14T20:23:15.941788Z",
          "start_time": "2020-09-14T20:23:15.920798Z"
        },
        "cell_style": "split",
        "scrolled": true,
        "id": "4tYX9bPr9Yys",
        "outputId": "84319f8c-23dc-402a-e1e1-2e6f0aca893e"
      },
      "source": [
        "df.loc[:,'Name']"
      ],
      "execution_count": null,
      "outputs": [
        {
          "output_type": "execute_result",
          "data": {
            "text/plain": [
              "Store 1    Chris\n",
              "Store 1    Kevyn\n",
              "Store 2    Vinod\n",
              "Name: Name, dtype: object"
            ]
          },
          "metadata": {
            "tags": []
          },
          "execution_count": 32
        }
      ]
    },
    {
      "cell_type": "markdown",
      "metadata": {
        "id": "_rSTCWZf9Y5q"
      },
      "source": [
        "## Pandas Read Options:"
      ]
    },
    {
      "cell_type": "markdown",
      "metadata": {
        "id": "rcOFcJwK9Y5r"
      },
      "source": [
        "        pd.read_clipboard\n",
        "        pd.read_excel\n",
        "        pd.read_feather\n",
        "        pd.read_html\n",
        "        pd.read_json\n",
        "        pd.read_sql\n",
        "        pd.read_sql_query\n",
        "        pd.read_sql_table\n",
        "        pd.read_table\n",
        "        pd.read_sas"
      ]
    },
    {
      "cell_type": "code",
      "metadata": {
        "ExecuteTime": {
          "end_time": "2020-09-14T21:20:08.833427Z",
          "start_time": "2020-09-14T21:20:08.789448Z"
        },
        "id": "4BIKM-6-9Y5t",
        "outputId": "53951280-9de3-4e11-a572-2e9406fd6c3b"
      },
      "source": [
        "# let's see some real data set \n",
        "# we read an csv file (comma seperated values)\n",
        "df = pd.read_csv('olympics.csv')\n",
        "df.head()"
      ],
      "execution_count": null,
      "outputs": [
        {
          "output_type": "execute_result",
          "data": {
            "text/html": [
              "<div>\n",
              "<style scoped>\n",
              "    .dataframe tbody tr th:only-of-type {\n",
              "        vertical-align: middle;\n",
              "    }\n",
              "\n",
              "    .dataframe tbody tr th {\n",
              "        vertical-align: top;\n",
              "    }\n",
              "\n",
              "    .dataframe thead th {\n",
              "        text-align: right;\n",
              "    }\n",
              "</style>\n",
              "<table border=\"1\" class=\"dataframe\">\n",
              "  <thead>\n",
              "    <tr style=\"text-align: right;\">\n",
              "      <th></th>\n",
              "      <th>0</th>\n",
              "      <th>1</th>\n",
              "      <th>2</th>\n",
              "      <th>3</th>\n",
              "      <th>4</th>\n",
              "      <th>5</th>\n",
              "      <th>6</th>\n",
              "      <th>7</th>\n",
              "      <th>8</th>\n",
              "      <th>9</th>\n",
              "      <th>10</th>\n",
              "      <th>11</th>\n",
              "      <th>12</th>\n",
              "      <th>13</th>\n",
              "      <th>14</th>\n",
              "      <th>15</th>\n",
              "    </tr>\n",
              "  </thead>\n",
              "  <tbody>\n",
              "    <tr>\n",
              "      <th>0</th>\n",
              "      <td>NaN</td>\n",
              "      <td>№ Summer</td>\n",
              "      <td>01 !</td>\n",
              "      <td>02 !</td>\n",
              "      <td>03 !</td>\n",
              "      <td>Total</td>\n",
              "      <td>№ Winter</td>\n",
              "      <td>01 !</td>\n",
              "      <td>02 !</td>\n",
              "      <td>03 !</td>\n",
              "      <td>Total</td>\n",
              "      <td>№ Games</td>\n",
              "      <td>01 !</td>\n",
              "      <td>02 !</td>\n",
              "      <td>03 !</td>\n",
              "      <td>Combined total</td>\n",
              "    </tr>\n",
              "    <tr>\n",
              "      <th>1</th>\n",
              "      <td>Afghanistan (AFG)</td>\n",
              "      <td>13</td>\n",
              "      <td>0</td>\n",
              "      <td>0</td>\n",
              "      <td>2</td>\n",
              "      <td>2</td>\n",
              "      <td>0</td>\n",
              "      <td>0</td>\n",
              "      <td>0</td>\n",
              "      <td>0</td>\n",
              "      <td>0</td>\n",
              "      <td>13</td>\n",
              "      <td>0</td>\n",
              "      <td>0</td>\n",
              "      <td>2</td>\n",
              "      <td>2</td>\n",
              "    </tr>\n",
              "    <tr>\n",
              "      <th>2</th>\n",
              "      <td>Algeria (ALG)</td>\n",
              "      <td>12</td>\n",
              "      <td>5</td>\n",
              "      <td>2</td>\n",
              "      <td>8</td>\n",
              "      <td>15</td>\n",
              "      <td>3</td>\n",
              "      <td>0</td>\n",
              "      <td>0</td>\n",
              "      <td>0</td>\n",
              "      <td>0</td>\n",
              "      <td>15</td>\n",
              "      <td>5</td>\n",
              "      <td>2</td>\n",
              "      <td>8</td>\n",
              "      <td>15</td>\n",
              "    </tr>\n",
              "    <tr>\n",
              "      <th>3</th>\n",
              "      <td>Argentina (ARG)</td>\n",
              "      <td>23</td>\n",
              "      <td>18</td>\n",
              "      <td>24</td>\n",
              "      <td>28</td>\n",
              "      <td>70</td>\n",
              "      <td>18</td>\n",
              "      <td>0</td>\n",
              "      <td>0</td>\n",
              "      <td>0</td>\n",
              "      <td>0</td>\n",
              "      <td>41</td>\n",
              "      <td>18</td>\n",
              "      <td>24</td>\n",
              "      <td>28</td>\n",
              "      <td>70</td>\n",
              "    </tr>\n",
              "    <tr>\n",
              "      <th>4</th>\n",
              "      <td>Armenia (ARM)</td>\n",
              "      <td>5</td>\n",
              "      <td>1</td>\n",
              "      <td>2</td>\n",
              "      <td>9</td>\n",
              "      <td>12</td>\n",
              "      <td>6</td>\n",
              "      <td>0</td>\n",
              "      <td>0</td>\n",
              "      <td>0</td>\n",
              "      <td>0</td>\n",
              "      <td>11</td>\n",
              "      <td>1</td>\n",
              "      <td>2</td>\n",
              "      <td>9</td>\n",
              "      <td>12</td>\n",
              "    </tr>\n",
              "  </tbody>\n",
              "</table>\n",
              "</div>"
            ],
            "text/plain": [
              "                   0         1     2     3     4      5         6     7     8  \\\n",
              "0                NaN  № Summer  01 !  02 !  03 !  Total  № Winter  01 !  02 !   \n",
              "1  Afghanistan (AFG)        13     0     0     2      2         0     0     0   \n",
              "2      Algeria (ALG)        12     5     2     8     15         3     0     0   \n",
              "3    Argentina (ARG)        23    18    24    28     70        18     0     0   \n",
              "4      Armenia (ARM)         5     1     2     9     12         6     0     0   \n",
              "\n",
              "      9     10       11    12    13    14              15  \n",
              "0  03 !  Total  № Games  01 !  02 !  03 !  Combined total  \n",
              "1     0      0       13     0     0     2               2  \n",
              "2     0      0       15     5     2     8              15  \n",
              "3     0      0       41    18    24    28              70  \n",
              "4     0      0       11     1     2     9              12  "
            ]
          },
          "metadata": {
            "tags": []
          },
          "execution_count": 110
        }
      ]
    },
    {
      "cell_type": "code",
      "metadata": {
        "ExecuteTime": {
          "end_time": "2020-09-14T21:20:09.972961Z",
          "start_time": "2020-09-14T21:20:09.940974Z"
        },
        "id": "8p78H5BG9Y53",
        "outputId": "f49ba0f3-4225-4dc9-be8f-74f7307e93aa"
      },
      "source": [
        "# remove the first index row \n",
        "df = pd.read_csv('olympics.csv', skiprows=1) \n",
        "df.head()"
      ],
      "execution_count": null,
      "outputs": [
        {
          "output_type": "execute_result",
          "data": {
            "text/html": [
              "<div>\n",
              "<style scoped>\n",
              "    .dataframe tbody tr th:only-of-type {\n",
              "        vertical-align: middle;\n",
              "    }\n",
              "\n",
              "    .dataframe tbody tr th {\n",
              "        vertical-align: top;\n",
              "    }\n",
              "\n",
              "    .dataframe thead th {\n",
              "        text-align: right;\n",
              "    }\n",
              "</style>\n",
              "<table border=\"1\" class=\"dataframe\">\n",
              "  <thead>\n",
              "    <tr style=\"text-align: right;\">\n",
              "      <th></th>\n",
              "      <th>Unnamed: 0</th>\n",
              "      <th>№ Summer</th>\n",
              "      <th>01 !</th>\n",
              "      <th>02 !</th>\n",
              "      <th>03 !</th>\n",
              "      <th>Total</th>\n",
              "      <th>№ Winter</th>\n",
              "      <th>01 !.1</th>\n",
              "      <th>02 !.1</th>\n",
              "      <th>03 !.1</th>\n",
              "      <th>Total.1</th>\n",
              "      <th>№ Games</th>\n",
              "      <th>01 !.2</th>\n",
              "      <th>02 !.2</th>\n",
              "      <th>03 !.2</th>\n",
              "      <th>Combined total</th>\n",
              "    </tr>\n",
              "  </thead>\n",
              "  <tbody>\n",
              "    <tr>\n",
              "      <th>0</th>\n",
              "      <td>Afghanistan (AFG)</td>\n",
              "      <td>13</td>\n",
              "      <td>0</td>\n",
              "      <td>0</td>\n",
              "      <td>2</td>\n",
              "      <td>2</td>\n",
              "      <td>0</td>\n",
              "      <td>0</td>\n",
              "      <td>0</td>\n",
              "      <td>0</td>\n",
              "      <td>0</td>\n",
              "      <td>13</td>\n",
              "      <td>0</td>\n",
              "      <td>0</td>\n",
              "      <td>2</td>\n",
              "      <td>2</td>\n",
              "    </tr>\n",
              "    <tr>\n",
              "      <th>1</th>\n",
              "      <td>Algeria (ALG)</td>\n",
              "      <td>12</td>\n",
              "      <td>5</td>\n",
              "      <td>2</td>\n",
              "      <td>8</td>\n",
              "      <td>15</td>\n",
              "      <td>3</td>\n",
              "      <td>0</td>\n",
              "      <td>0</td>\n",
              "      <td>0</td>\n",
              "      <td>0</td>\n",
              "      <td>15</td>\n",
              "      <td>5</td>\n",
              "      <td>2</td>\n",
              "      <td>8</td>\n",
              "      <td>15</td>\n",
              "    </tr>\n",
              "    <tr>\n",
              "      <th>2</th>\n",
              "      <td>Argentina (ARG)</td>\n",
              "      <td>23</td>\n",
              "      <td>18</td>\n",
              "      <td>24</td>\n",
              "      <td>28</td>\n",
              "      <td>70</td>\n",
              "      <td>18</td>\n",
              "      <td>0</td>\n",
              "      <td>0</td>\n",
              "      <td>0</td>\n",
              "      <td>0</td>\n",
              "      <td>41</td>\n",
              "      <td>18</td>\n",
              "      <td>24</td>\n",
              "      <td>28</td>\n",
              "      <td>70</td>\n",
              "    </tr>\n",
              "    <tr>\n",
              "      <th>3</th>\n",
              "      <td>Armenia (ARM)</td>\n",
              "      <td>5</td>\n",
              "      <td>1</td>\n",
              "      <td>2</td>\n",
              "      <td>9</td>\n",
              "      <td>12</td>\n",
              "      <td>6</td>\n",
              "      <td>0</td>\n",
              "      <td>0</td>\n",
              "      <td>0</td>\n",
              "      <td>0</td>\n",
              "      <td>11</td>\n",
              "      <td>1</td>\n",
              "      <td>2</td>\n",
              "      <td>9</td>\n",
              "      <td>12</td>\n",
              "    </tr>\n",
              "    <tr>\n",
              "      <th>4</th>\n",
              "      <td>Australasia (ANZ) [ANZ]</td>\n",
              "      <td>2</td>\n",
              "      <td>3</td>\n",
              "      <td>4</td>\n",
              "      <td>5</td>\n",
              "      <td>12</td>\n",
              "      <td>0</td>\n",
              "      <td>0</td>\n",
              "      <td>0</td>\n",
              "      <td>0</td>\n",
              "      <td>0</td>\n",
              "      <td>2</td>\n",
              "      <td>3</td>\n",
              "      <td>4</td>\n",
              "      <td>5</td>\n",
              "      <td>12</td>\n",
              "    </tr>\n",
              "  </tbody>\n",
              "</table>\n",
              "</div>"
            ],
            "text/plain": [
              "                Unnamed: 0  № Summer  01 !  02 !  03 !  Total  № Winter  \\\n",
              "0        Afghanistan (AFG)        13     0     0     2      2         0   \n",
              "1            Algeria (ALG)        12     5     2     8     15         3   \n",
              "2          Argentina (ARG)        23    18    24    28     70        18   \n",
              "3            Armenia (ARM)         5     1     2     9     12         6   \n",
              "4  Australasia (ANZ) [ANZ]         2     3     4     5     12         0   \n",
              "\n",
              "   01 !.1  02 !.1  03 !.1  Total.1  № Games  01 !.2  02 !.2  03 !.2  \\\n",
              "0       0       0       0        0       13       0       0       2   \n",
              "1       0       0       0        0       15       5       2       8   \n",
              "2       0       0       0        0       41      18      24      28   \n",
              "3       0       0       0        0       11       1       2       9   \n",
              "4       0       0       0        0        2       3       4       5   \n",
              "\n",
              "   Combined total  \n",
              "0               2  \n",
              "1              15  \n",
              "2              70  \n",
              "3              12  \n",
              "4              12  "
            ]
          },
          "metadata": {
            "tags": []
          },
          "execution_count": 111
        }
      ]
    },
    {
      "cell_type": "code",
      "metadata": {
        "ExecuteTime": {
          "end_time": "2020-09-14T21:20:13.234399Z",
          "start_time": "2020-09-14T21:20:13.227402Z"
        },
        "scrolled": true,
        "id": "m_l9NX7r9Y5_",
        "outputId": "c57511bb-db2d-4524-85e6-2321df532d7c"
      },
      "source": [
        "# print out the columns\n",
        "df.columns"
      ],
      "execution_count": null,
      "outputs": [
        {
          "output_type": "execute_result",
          "data": {
            "text/plain": [
              "Index(['Unnamed: 0', '№ Summer', '01 !', '02 !', '03 !', 'Total', '№ Winter',\n",
              "       '01 !.1', '02 !.1', '03 !.1', 'Total.1', '№ Games', '01 !.2', '02 !.2',\n",
              "       '03 !.2', 'Combined total'],\n",
              "      dtype='object')"
            ]
          },
          "metadata": {
            "tags": []
          },
          "execution_count": 112
        }
      ]
    },
    {
      "cell_type": "markdown",
      "metadata": {
        "id": "LPfppApX9Y6V"
      },
      "source": [
        "#### **Let's fix some issues** \n",
        "As you noticed and if you read the discreption you will see that the col. names are coded, \n",
        "#### so let's rename it as 01 -> gold ,,, 02-> silver ,,, 03-> bronze ,, and for № let's set it as number # "
      ]
    },
    {
      "cell_type": "code",
      "metadata": {
        "ExecuteTime": {
          "end_time": "2020-09-14T21:20:14.865955Z",
          "start_time": "2020-09-14T21:20:14.819977Z"
        },
        "scrolled": true,
        "id": "s3m6t_mM9Y6W",
        "outputId": "26788a1c-1435-4e2f-80a8-66c444d45305"
      },
      "source": [
        "# where keys are col name , and the values to be replaced with is 'Gold + num if found\n",
        "for col in df.columns:\n",
        "    if col[:2]=='01':\n",
        "        df.rename( columns={ col: 'Gold' + col[4:] } , inplace=True ) # if there is string like !.1 so from index [4:] to put it in the string name\n",
        "        \n",
        "    if col[:2]=='02':\n",
        "        df.rename( columns={col:'Silver' + col[4:]} , inplace=True )\n",
        "        \n",
        "    if col[:2]=='03':\n",
        "        df.rename( columns={col:'Bronze' + col[4:]} , inplace=True )\n",
        "        \n",
        "    if col[:1]=='№':\n",
        "        df.rename( columns={col:'#' + col[1:]} , inplace=True ) \n",
        "\n",
        "df.head()"
      ],
      "execution_count": null,
      "outputs": [
        {
          "output_type": "execute_result",
          "data": {
            "text/html": [
              "<div>\n",
              "<style scoped>\n",
              "    .dataframe tbody tr th:only-of-type {\n",
              "        vertical-align: middle;\n",
              "    }\n",
              "\n",
              "    .dataframe tbody tr th {\n",
              "        vertical-align: top;\n",
              "    }\n",
              "\n",
              "    .dataframe thead th {\n",
              "        text-align: right;\n",
              "    }\n",
              "</style>\n",
              "<table border=\"1\" class=\"dataframe\">\n",
              "  <thead>\n",
              "    <tr style=\"text-align: right;\">\n",
              "      <th></th>\n",
              "      <th>Unnamed: 0</th>\n",
              "      <th># Summer</th>\n",
              "      <th>Gold</th>\n",
              "      <th>Silver</th>\n",
              "      <th>Bronze</th>\n",
              "      <th>Total</th>\n",
              "      <th># Winter</th>\n",
              "      <th>Gold.1</th>\n",
              "      <th>Silver.1</th>\n",
              "      <th>Bronze.1</th>\n",
              "      <th>Total.1</th>\n",
              "      <th># Games</th>\n",
              "      <th>Gold.2</th>\n",
              "      <th>Silver.2</th>\n",
              "      <th>Bronze.2</th>\n",
              "      <th>Combined total</th>\n",
              "    </tr>\n",
              "  </thead>\n",
              "  <tbody>\n",
              "    <tr>\n",
              "      <th>0</th>\n",
              "      <td>Afghanistan (AFG)</td>\n",
              "      <td>13</td>\n",
              "      <td>0</td>\n",
              "      <td>0</td>\n",
              "      <td>2</td>\n",
              "      <td>2</td>\n",
              "      <td>0</td>\n",
              "      <td>0</td>\n",
              "      <td>0</td>\n",
              "      <td>0</td>\n",
              "      <td>0</td>\n",
              "      <td>13</td>\n",
              "      <td>0</td>\n",
              "      <td>0</td>\n",
              "      <td>2</td>\n",
              "      <td>2</td>\n",
              "    </tr>\n",
              "    <tr>\n",
              "      <th>1</th>\n",
              "      <td>Algeria (ALG)</td>\n",
              "      <td>12</td>\n",
              "      <td>5</td>\n",
              "      <td>2</td>\n",
              "      <td>8</td>\n",
              "      <td>15</td>\n",
              "      <td>3</td>\n",
              "      <td>0</td>\n",
              "      <td>0</td>\n",
              "      <td>0</td>\n",
              "      <td>0</td>\n",
              "      <td>15</td>\n",
              "      <td>5</td>\n",
              "      <td>2</td>\n",
              "      <td>8</td>\n",
              "      <td>15</td>\n",
              "    </tr>\n",
              "    <tr>\n",
              "      <th>2</th>\n",
              "      <td>Argentina (ARG)</td>\n",
              "      <td>23</td>\n",
              "      <td>18</td>\n",
              "      <td>24</td>\n",
              "      <td>28</td>\n",
              "      <td>70</td>\n",
              "      <td>18</td>\n",
              "      <td>0</td>\n",
              "      <td>0</td>\n",
              "      <td>0</td>\n",
              "      <td>0</td>\n",
              "      <td>41</td>\n",
              "      <td>18</td>\n",
              "      <td>24</td>\n",
              "      <td>28</td>\n",
              "      <td>70</td>\n",
              "    </tr>\n",
              "    <tr>\n",
              "      <th>3</th>\n",
              "      <td>Armenia (ARM)</td>\n",
              "      <td>5</td>\n",
              "      <td>1</td>\n",
              "      <td>2</td>\n",
              "      <td>9</td>\n",
              "      <td>12</td>\n",
              "      <td>6</td>\n",
              "      <td>0</td>\n",
              "      <td>0</td>\n",
              "      <td>0</td>\n",
              "      <td>0</td>\n",
              "      <td>11</td>\n",
              "      <td>1</td>\n",
              "      <td>2</td>\n",
              "      <td>9</td>\n",
              "      <td>12</td>\n",
              "    </tr>\n",
              "    <tr>\n",
              "      <th>4</th>\n",
              "      <td>Australasia (ANZ) [ANZ]</td>\n",
              "      <td>2</td>\n",
              "      <td>3</td>\n",
              "      <td>4</td>\n",
              "      <td>5</td>\n",
              "      <td>12</td>\n",
              "      <td>0</td>\n",
              "      <td>0</td>\n",
              "      <td>0</td>\n",
              "      <td>0</td>\n",
              "      <td>0</td>\n",
              "      <td>2</td>\n",
              "      <td>3</td>\n",
              "      <td>4</td>\n",
              "      <td>5</td>\n",
              "      <td>12</td>\n",
              "    </tr>\n",
              "  </tbody>\n",
              "</table>\n",
              "</div>"
            ],
            "text/plain": [
              "                Unnamed: 0  # Summer  Gold  Silver  Bronze  Total  # Winter  \\\n",
              "0        Afghanistan (AFG)        13     0       0       2      2         0   \n",
              "1            Algeria (ALG)        12     5       2       8     15         3   \n",
              "2          Argentina (ARG)        23    18      24      28     70        18   \n",
              "3            Armenia (ARM)         5     1       2       9     12         6   \n",
              "4  Australasia (ANZ) [ANZ]         2     3       4       5     12         0   \n",
              "\n",
              "   Gold.1  Silver.1  Bronze.1  Total.1  # Games  Gold.2  Silver.2  Bronze.2  \\\n",
              "0       0         0         0        0       13       0         0         2   \n",
              "1       0         0         0        0       15       5         2         8   \n",
              "2       0         0         0        0       41      18        24        28   \n",
              "3       0         0         0        0       11       1         2         9   \n",
              "4       0         0         0        0        2       3         4         5   \n",
              "\n",
              "   Combined total  \n",
              "0               2  \n",
              "1              15  \n",
              "2              70  \n",
              "3              12  \n",
              "4              12  "
            ]
          },
          "metadata": {
            "tags": []
          },
          "execution_count": 113
        }
      ]
    },
    {
      "cell_type": "markdown",
      "metadata": {
        "id": "WU5QrKhw9Y8E"
      },
      "source": [
        "### Let's descover more index functions"
      ]
    },
    {
      "cell_type": "code",
      "metadata": {
        "ExecuteTime": {
          "end_time": "2020-09-14T21:20:25.419426Z",
          "start_time": "2020-09-14T21:20:25.396437Z"
        },
        "id": "1tlZn2rF9Y8F",
        "outputId": "385a5459-c79b-42f6-be13-17c537a2a93f"
      },
      "source": [
        "df.head()"
      ],
      "execution_count": null,
      "outputs": [
        {
          "output_type": "execute_result",
          "data": {
            "text/html": [
              "<div>\n",
              "<style scoped>\n",
              "    .dataframe tbody tr th:only-of-type {\n",
              "        vertical-align: middle;\n",
              "    }\n",
              "\n",
              "    .dataframe tbody tr th {\n",
              "        vertical-align: top;\n",
              "    }\n",
              "\n",
              "    .dataframe thead th {\n",
              "        text-align: right;\n",
              "    }\n",
              "</style>\n",
              "<table border=\"1\" class=\"dataframe\">\n",
              "  <thead>\n",
              "    <tr style=\"text-align: right;\">\n",
              "      <th></th>\n",
              "      <th>Unnamed: 0</th>\n",
              "      <th># Summer</th>\n",
              "      <th>Gold</th>\n",
              "      <th>Silver</th>\n",
              "      <th>Bronze</th>\n",
              "      <th>Total</th>\n",
              "      <th># Winter</th>\n",
              "      <th>Gold.1</th>\n",
              "      <th>Silver.1</th>\n",
              "      <th>Bronze.1</th>\n",
              "      <th>Total.1</th>\n",
              "      <th># Games</th>\n",
              "      <th>Gold.2</th>\n",
              "      <th>Silver.2</th>\n",
              "      <th>Bronze.2</th>\n",
              "      <th>Combined total</th>\n",
              "    </tr>\n",
              "  </thead>\n",
              "  <tbody>\n",
              "    <tr>\n",
              "      <th>0</th>\n",
              "      <td>Afghanistan (AFG)</td>\n",
              "      <td>13</td>\n",
              "      <td>0</td>\n",
              "      <td>0</td>\n",
              "      <td>2</td>\n",
              "      <td>2</td>\n",
              "      <td>0</td>\n",
              "      <td>0</td>\n",
              "      <td>0</td>\n",
              "      <td>0</td>\n",
              "      <td>0</td>\n",
              "      <td>13</td>\n",
              "      <td>0</td>\n",
              "      <td>0</td>\n",
              "      <td>2</td>\n",
              "      <td>2</td>\n",
              "    </tr>\n",
              "    <tr>\n",
              "      <th>1</th>\n",
              "      <td>Algeria (ALG)</td>\n",
              "      <td>12</td>\n",
              "      <td>5</td>\n",
              "      <td>2</td>\n",
              "      <td>8</td>\n",
              "      <td>15</td>\n",
              "      <td>3</td>\n",
              "      <td>0</td>\n",
              "      <td>0</td>\n",
              "      <td>0</td>\n",
              "      <td>0</td>\n",
              "      <td>15</td>\n",
              "      <td>5</td>\n",
              "      <td>2</td>\n",
              "      <td>8</td>\n",
              "      <td>15</td>\n",
              "    </tr>\n",
              "    <tr>\n",
              "      <th>2</th>\n",
              "      <td>Argentina (ARG)</td>\n",
              "      <td>23</td>\n",
              "      <td>18</td>\n",
              "      <td>24</td>\n",
              "      <td>28</td>\n",
              "      <td>70</td>\n",
              "      <td>18</td>\n",
              "      <td>0</td>\n",
              "      <td>0</td>\n",
              "      <td>0</td>\n",
              "      <td>0</td>\n",
              "      <td>41</td>\n",
              "      <td>18</td>\n",
              "      <td>24</td>\n",
              "      <td>28</td>\n",
              "      <td>70</td>\n",
              "    </tr>\n",
              "    <tr>\n",
              "      <th>3</th>\n",
              "      <td>Armenia (ARM)</td>\n",
              "      <td>5</td>\n",
              "      <td>1</td>\n",
              "      <td>2</td>\n",
              "      <td>9</td>\n",
              "      <td>12</td>\n",
              "      <td>6</td>\n",
              "      <td>0</td>\n",
              "      <td>0</td>\n",
              "      <td>0</td>\n",
              "      <td>0</td>\n",
              "      <td>11</td>\n",
              "      <td>1</td>\n",
              "      <td>2</td>\n",
              "      <td>9</td>\n",
              "      <td>12</td>\n",
              "    </tr>\n",
              "    <tr>\n",
              "      <th>4</th>\n",
              "      <td>Australasia (ANZ) [ANZ]</td>\n",
              "      <td>2</td>\n",
              "      <td>3</td>\n",
              "      <td>4</td>\n",
              "      <td>5</td>\n",
              "      <td>12</td>\n",
              "      <td>0</td>\n",
              "      <td>0</td>\n",
              "      <td>0</td>\n",
              "      <td>0</td>\n",
              "      <td>0</td>\n",
              "      <td>2</td>\n",
              "      <td>3</td>\n",
              "      <td>4</td>\n",
              "      <td>5</td>\n",
              "      <td>12</td>\n",
              "    </tr>\n",
              "  </tbody>\n",
              "</table>\n",
              "</div>"
            ],
            "text/plain": [
              "                Unnamed: 0  # Summer  Gold  Silver  Bronze  Total  # Winter  \\\n",
              "0        Afghanistan (AFG)        13     0       0       2      2         0   \n",
              "1            Algeria (ALG)        12     5       2       8     15         3   \n",
              "2          Argentina (ARG)        23    18      24      28     70        18   \n",
              "3            Armenia (ARM)         5     1       2       9     12         6   \n",
              "4  Australasia (ANZ) [ANZ]         2     3       4       5     12         0   \n",
              "\n",
              "   Gold.1  Silver.1  Bronze.1  Total.1  # Games  Gold.2  Silver.2  Bronze.2  \\\n",
              "0       0         0         0        0       13       0         0         2   \n",
              "1       0         0         0        0       15       5         2         8   \n",
              "2       0         0         0        0       41      18        24        28   \n",
              "3       0         0         0        0       11       1         2         9   \n",
              "4       0         0         0        0        2       3         4         5   \n",
              "\n",
              "   Combined total  \n",
              "0               2  \n",
              "1              15  \n",
              "2              70  \n",
              "3              12  \n",
              "4              12  "
            ]
          },
          "metadata": {
            "tags": []
          },
          "execution_count": 119
        }
      ]
    },
    {
      "cell_type": "code",
      "metadata": {
        "ExecuteTime": {
          "end_time": "2020-09-14T21:20:28.473162Z",
          "start_time": "2020-09-14T21:20:28.437180Z"
        },
        "id": "UQrX6qxH9Y8Y",
        "outputId": "a6198013-16d0-4a40-ed36-964e2b2cc3b0"
      },
      "source": [
        "# here we can reset the row inedx from dataframe . reset_index ( 0 --> len-1 )\n",
        "df = df.reset_index()\n",
        "df.head()\n",
        "# see how the index coulmn appeared and got saved into the df"
      ],
      "execution_count": null,
      "outputs": [
        {
          "output_type": "execute_result",
          "data": {
            "text/html": [
              "<div>\n",
              "<style scoped>\n",
              "    .dataframe tbody tr th:only-of-type {\n",
              "        vertical-align: middle;\n",
              "    }\n",
              "\n",
              "    .dataframe tbody tr th {\n",
              "        vertical-align: top;\n",
              "    }\n",
              "\n",
              "    .dataframe thead th {\n",
              "        text-align: right;\n",
              "    }\n",
              "</style>\n",
              "<table border=\"1\" class=\"dataframe\">\n",
              "  <thead>\n",
              "    <tr style=\"text-align: right;\">\n",
              "      <th></th>\n",
              "      <th>index</th>\n",
              "      <th>Unnamed: 0</th>\n",
              "      <th># Summer</th>\n",
              "      <th>Gold</th>\n",
              "      <th>Silver</th>\n",
              "      <th>Bronze</th>\n",
              "      <th>Total</th>\n",
              "      <th># Winter</th>\n",
              "      <th>Gold.1</th>\n",
              "      <th>Silver.1</th>\n",
              "      <th>Bronze.1</th>\n",
              "      <th>Total.1</th>\n",
              "      <th># Games</th>\n",
              "      <th>Gold.2</th>\n",
              "      <th>Silver.2</th>\n",
              "      <th>Bronze.2</th>\n",
              "      <th>Combined total</th>\n",
              "    </tr>\n",
              "  </thead>\n",
              "  <tbody>\n",
              "    <tr>\n",
              "      <th>0</th>\n",
              "      <td>0</td>\n",
              "      <td>Afghanistan (AFG)</td>\n",
              "      <td>13</td>\n",
              "      <td>0</td>\n",
              "      <td>0</td>\n",
              "      <td>2</td>\n",
              "      <td>2</td>\n",
              "      <td>0</td>\n",
              "      <td>0</td>\n",
              "      <td>0</td>\n",
              "      <td>0</td>\n",
              "      <td>0</td>\n",
              "      <td>13</td>\n",
              "      <td>0</td>\n",
              "      <td>0</td>\n",
              "      <td>2</td>\n",
              "      <td>2</td>\n",
              "    </tr>\n",
              "    <tr>\n",
              "      <th>1</th>\n",
              "      <td>1</td>\n",
              "      <td>Algeria (ALG)</td>\n",
              "      <td>12</td>\n",
              "      <td>5</td>\n",
              "      <td>2</td>\n",
              "      <td>8</td>\n",
              "      <td>15</td>\n",
              "      <td>3</td>\n",
              "      <td>0</td>\n",
              "      <td>0</td>\n",
              "      <td>0</td>\n",
              "      <td>0</td>\n",
              "      <td>15</td>\n",
              "      <td>5</td>\n",
              "      <td>2</td>\n",
              "      <td>8</td>\n",
              "      <td>15</td>\n",
              "    </tr>\n",
              "    <tr>\n",
              "      <th>2</th>\n",
              "      <td>2</td>\n",
              "      <td>Argentina (ARG)</td>\n",
              "      <td>23</td>\n",
              "      <td>18</td>\n",
              "      <td>24</td>\n",
              "      <td>28</td>\n",
              "      <td>70</td>\n",
              "      <td>18</td>\n",
              "      <td>0</td>\n",
              "      <td>0</td>\n",
              "      <td>0</td>\n",
              "      <td>0</td>\n",
              "      <td>41</td>\n",
              "      <td>18</td>\n",
              "      <td>24</td>\n",
              "      <td>28</td>\n",
              "      <td>70</td>\n",
              "    </tr>\n",
              "    <tr>\n",
              "      <th>3</th>\n",
              "      <td>3</td>\n",
              "      <td>Armenia (ARM)</td>\n",
              "      <td>5</td>\n",
              "      <td>1</td>\n",
              "      <td>2</td>\n",
              "      <td>9</td>\n",
              "      <td>12</td>\n",
              "      <td>6</td>\n",
              "      <td>0</td>\n",
              "      <td>0</td>\n",
              "      <td>0</td>\n",
              "      <td>0</td>\n",
              "      <td>11</td>\n",
              "      <td>1</td>\n",
              "      <td>2</td>\n",
              "      <td>9</td>\n",
              "      <td>12</td>\n",
              "    </tr>\n",
              "    <tr>\n",
              "      <th>4</th>\n",
              "      <td>4</td>\n",
              "      <td>Australasia (ANZ) [ANZ]</td>\n",
              "      <td>2</td>\n",
              "      <td>3</td>\n",
              "      <td>4</td>\n",
              "      <td>5</td>\n",
              "      <td>12</td>\n",
              "      <td>0</td>\n",
              "      <td>0</td>\n",
              "      <td>0</td>\n",
              "      <td>0</td>\n",
              "      <td>0</td>\n",
              "      <td>2</td>\n",
              "      <td>3</td>\n",
              "      <td>4</td>\n",
              "      <td>5</td>\n",
              "      <td>12</td>\n",
              "    </tr>\n",
              "  </tbody>\n",
              "</table>\n",
              "</div>"
            ],
            "text/plain": [
              "   index               Unnamed: 0  # Summer  Gold  Silver  Bronze  Total  \\\n",
              "0      0        Afghanistan (AFG)        13     0       0       2      2   \n",
              "1      1            Algeria (ALG)        12     5       2       8     15   \n",
              "2      2          Argentina (ARG)        23    18      24      28     70   \n",
              "3      3            Armenia (ARM)         5     1       2       9     12   \n",
              "4      4  Australasia (ANZ) [ANZ]         2     3       4       5     12   \n",
              "\n",
              "   # Winter  Gold.1  Silver.1  Bronze.1  Total.1  # Games  Gold.2  Silver.2  \\\n",
              "0         0       0         0         0        0       13       0         0   \n",
              "1         3       0         0         0        0       15       5         2   \n",
              "2        18       0         0         0        0       41      18        24   \n",
              "3         6       0         0         0        0       11       1         2   \n",
              "4         0       0         0         0        0        2       3         4   \n",
              "\n",
              "   Bronze.2  Combined total  \n",
              "0         2               2  \n",
              "1         8              15  \n",
              "2        28              70  \n",
              "3         9              12  \n",
              "4         5              12  "
            ]
          },
          "metadata": {
            "tags": []
          },
          "execution_count": 120
        }
      ]
    },
    {
      "cell_type": "code",
      "metadata": {
        "ExecuteTime": {
          "end_time": "2020-09-14T21:20:30.999289Z",
          "start_time": "2020-09-14T21:20:30.971303Z"
        },
        "id": "vczsJU0v9Y8y",
        "outputId": "35d82b34-4d69-4e80-a585-1a511134469a"
      },
      "source": [
        "# now let's change the index and set it as the country col\n",
        "df = df.set_index('Unnamed: 0')\n",
        "df.head()"
      ],
      "execution_count": null,
      "outputs": [
        {
          "output_type": "execute_result",
          "data": {
            "text/html": [
              "<div>\n",
              "<style scoped>\n",
              "    .dataframe tbody tr th:only-of-type {\n",
              "        vertical-align: middle;\n",
              "    }\n",
              "\n",
              "    .dataframe tbody tr th {\n",
              "        vertical-align: top;\n",
              "    }\n",
              "\n",
              "    .dataframe thead th {\n",
              "        text-align: right;\n",
              "    }\n",
              "</style>\n",
              "<table border=\"1\" class=\"dataframe\">\n",
              "  <thead>\n",
              "    <tr style=\"text-align: right;\">\n",
              "      <th></th>\n",
              "      <th>index</th>\n",
              "      <th># Summer</th>\n",
              "      <th>Gold</th>\n",
              "      <th>Silver</th>\n",
              "      <th>Bronze</th>\n",
              "      <th>Total</th>\n",
              "      <th># Winter</th>\n",
              "      <th>Gold.1</th>\n",
              "      <th>Silver.1</th>\n",
              "      <th>Bronze.1</th>\n",
              "      <th>Total.1</th>\n",
              "      <th># Games</th>\n",
              "      <th>Gold.2</th>\n",
              "      <th>Silver.2</th>\n",
              "      <th>Bronze.2</th>\n",
              "      <th>Combined total</th>\n",
              "    </tr>\n",
              "    <tr>\n",
              "      <th>Unnamed: 0</th>\n",
              "      <th></th>\n",
              "      <th></th>\n",
              "      <th></th>\n",
              "      <th></th>\n",
              "      <th></th>\n",
              "      <th></th>\n",
              "      <th></th>\n",
              "      <th></th>\n",
              "      <th></th>\n",
              "      <th></th>\n",
              "      <th></th>\n",
              "      <th></th>\n",
              "      <th></th>\n",
              "      <th></th>\n",
              "      <th></th>\n",
              "      <th></th>\n",
              "    </tr>\n",
              "  </thead>\n",
              "  <tbody>\n",
              "    <tr>\n",
              "      <th>Afghanistan (AFG)</th>\n",
              "      <td>0</td>\n",
              "      <td>13</td>\n",
              "      <td>0</td>\n",
              "      <td>0</td>\n",
              "      <td>2</td>\n",
              "      <td>2</td>\n",
              "      <td>0</td>\n",
              "      <td>0</td>\n",
              "      <td>0</td>\n",
              "      <td>0</td>\n",
              "      <td>0</td>\n",
              "      <td>13</td>\n",
              "      <td>0</td>\n",
              "      <td>0</td>\n",
              "      <td>2</td>\n",
              "      <td>2</td>\n",
              "    </tr>\n",
              "    <tr>\n",
              "      <th>Algeria (ALG)</th>\n",
              "      <td>1</td>\n",
              "      <td>12</td>\n",
              "      <td>5</td>\n",
              "      <td>2</td>\n",
              "      <td>8</td>\n",
              "      <td>15</td>\n",
              "      <td>3</td>\n",
              "      <td>0</td>\n",
              "      <td>0</td>\n",
              "      <td>0</td>\n",
              "      <td>0</td>\n",
              "      <td>15</td>\n",
              "      <td>5</td>\n",
              "      <td>2</td>\n",
              "      <td>8</td>\n",
              "      <td>15</td>\n",
              "    </tr>\n",
              "    <tr>\n",
              "      <th>Argentina (ARG)</th>\n",
              "      <td>2</td>\n",
              "      <td>23</td>\n",
              "      <td>18</td>\n",
              "      <td>24</td>\n",
              "      <td>28</td>\n",
              "      <td>70</td>\n",
              "      <td>18</td>\n",
              "      <td>0</td>\n",
              "      <td>0</td>\n",
              "      <td>0</td>\n",
              "      <td>0</td>\n",
              "      <td>41</td>\n",
              "      <td>18</td>\n",
              "      <td>24</td>\n",
              "      <td>28</td>\n",
              "      <td>70</td>\n",
              "    </tr>\n",
              "    <tr>\n",
              "      <th>Armenia (ARM)</th>\n",
              "      <td>3</td>\n",
              "      <td>5</td>\n",
              "      <td>1</td>\n",
              "      <td>2</td>\n",
              "      <td>9</td>\n",
              "      <td>12</td>\n",
              "      <td>6</td>\n",
              "      <td>0</td>\n",
              "      <td>0</td>\n",
              "      <td>0</td>\n",
              "      <td>0</td>\n",
              "      <td>11</td>\n",
              "      <td>1</td>\n",
              "      <td>2</td>\n",
              "      <td>9</td>\n",
              "      <td>12</td>\n",
              "    </tr>\n",
              "    <tr>\n",
              "      <th>Australasia (ANZ) [ANZ]</th>\n",
              "      <td>4</td>\n",
              "      <td>2</td>\n",
              "      <td>3</td>\n",
              "      <td>4</td>\n",
              "      <td>5</td>\n",
              "      <td>12</td>\n",
              "      <td>0</td>\n",
              "      <td>0</td>\n",
              "      <td>0</td>\n",
              "      <td>0</td>\n",
              "      <td>0</td>\n",
              "      <td>2</td>\n",
              "      <td>3</td>\n",
              "      <td>4</td>\n",
              "      <td>5</td>\n",
              "      <td>12</td>\n",
              "    </tr>\n",
              "  </tbody>\n",
              "</table>\n",
              "</div>"
            ],
            "text/plain": [
              "                         index  # Summer  Gold  Silver  Bronze  Total  \\\n",
              "Unnamed: 0                                                              \n",
              "Afghanistan (AFG)            0        13     0       0       2      2   \n",
              "Algeria (ALG)                1        12     5       2       8     15   \n",
              "Argentina (ARG)              2        23    18      24      28     70   \n",
              "Armenia (ARM)                3         5     1       2       9     12   \n",
              "Australasia (ANZ) [ANZ]      4         2     3       4       5     12   \n",
              "\n",
              "                         # Winter  Gold.1  Silver.1  Bronze.1  Total.1  \\\n",
              "Unnamed: 0                                                               \n",
              "Afghanistan (AFG)               0       0         0         0        0   \n",
              "Algeria (ALG)                   3       0         0         0        0   \n",
              "Argentina (ARG)                18       0         0         0        0   \n",
              "Armenia (ARM)                   6       0         0         0        0   \n",
              "Australasia (ANZ) [ANZ]         0       0         0         0        0   \n",
              "\n",
              "                         # Games  Gold.2  Silver.2  Bronze.2  Combined total  \n",
              "Unnamed: 0                                                                    \n",
              "Afghanistan (AFG)             13       0         0         2               2  \n",
              "Algeria (ALG)                 15       5         2         8              15  \n",
              "Argentina (ARG)               41      18        24        28              70  \n",
              "Armenia (ARM)                 11       1         2         9              12  \n",
              "Australasia (ANZ) [ANZ]        2       3         4         5              12  "
            ]
          },
          "metadata": {
            "tags": []
          },
          "execution_count": 121
        }
      ]
    },
    {
      "cell_type": "code",
      "metadata": {
        "ExecuteTime": {
          "end_time": "2020-09-14T21:22:43.886872Z",
          "start_time": "2020-09-14T21:22:43.854893Z"
        },
        "scrolled": true,
        "id": "d9mgA2Gh9Y89",
        "outputId": "a0d35a72-42e2-43eb-b87b-fa189c5ddd6c"
      },
      "source": [
        "# you can also save your current index in a column\n",
        "df['index'] = df.index\n",
        "df.head()"
      ],
      "execution_count": null,
      "outputs": [
        {
          "output_type": "execute_result",
          "data": {
            "text/html": [
              "<div>\n",
              "<style scoped>\n",
              "    .dataframe tbody tr th:only-of-type {\n",
              "        vertical-align: middle;\n",
              "    }\n",
              "\n",
              "    .dataframe tbody tr th {\n",
              "        vertical-align: top;\n",
              "    }\n",
              "\n",
              "    .dataframe thead th {\n",
              "        text-align: right;\n",
              "    }\n",
              "</style>\n",
              "<table border=\"1\" class=\"dataframe\">\n",
              "  <thead>\n",
              "    <tr style=\"text-align: right;\">\n",
              "      <th></th>\n",
              "      <th>index</th>\n",
              "      <th># Summer</th>\n",
              "      <th>Gold</th>\n",
              "      <th>Silver</th>\n",
              "      <th>Bronze</th>\n",
              "      <th>Total</th>\n",
              "      <th># Winter</th>\n",
              "      <th>Gold.1</th>\n",
              "      <th>Silver.1</th>\n",
              "      <th>Bronze.1</th>\n",
              "      <th>Total.1</th>\n",
              "      <th># Games</th>\n",
              "      <th>Gold.2</th>\n",
              "      <th>Silver.2</th>\n",
              "      <th>Bronze.2</th>\n",
              "      <th>Combined total</th>\n",
              "    </tr>\n",
              "    <tr>\n",
              "      <th>Unnamed: 0</th>\n",
              "      <th></th>\n",
              "      <th></th>\n",
              "      <th></th>\n",
              "      <th></th>\n",
              "      <th></th>\n",
              "      <th></th>\n",
              "      <th></th>\n",
              "      <th></th>\n",
              "      <th></th>\n",
              "      <th></th>\n",
              "      <th></th>\n",
              "      <th></th>\n",
              "      <th></th>\n",
              "      <th></th>\n",
              "      <th></th>\n",
              "      <th></th>\n",
              "    </tr>\n",
              "  </thead>\n",
              "  <tbody>\n",
              "    <tr>\n",
              "      <th>Afghanistan (AFG)</th>\n",
              "      <td>Afghanistan (AFG)</td>\n",
              "      <td>13</td>\n",
              "      <td>0</td>\n",
              "      <td>0</td>\n",
              "      <td>2</td>\n",
              "      <td>2</td>\n",
              "      <td>0</td>\n",
              "      <td>0</td>\n",
              "      <td>0</td>\n",
              "      <td>0</td>\n",
              "      <td>0</td>\n",
              "      <td>13</td>\n",
              "      <td>0</td>\n",
              "      <td>0</td>\n",
              "      <td>2</td>\n",
              "      <td>2</td>\n",
              "    </tr>\n",
              "    <tr>\n",
              "      <th>Algeria (ALG)</th>\n",
              "      <td>Algeria (ALG)</td>\n",
              "      <td>12</td>\n",
              "      <td>5</td>\n",
              "      <td>2</td>\n",
              "      <td>8</td>\n",
              "      <td>15</td>\n",
              "      <td>3</td>\n",
              "      <td>0</td>\n",
              "      <td>0</td>\n",
              "      <td>0</td>\n",
              "      <td>0</td>\n",
              "      <td>15</td>\n",
              "      <td>5</td>\n",
              "      <td>2</td>\n",
              "      <td>8</td>\n",
              "      <td>15</td>\n",
              "    </tr>\n",
              "    <tr>\n",
              "      <th>Argentina (ARG)</th>\n",
              "      <td>Argentina (ARG)</td>\n",
              "      <td>23</td>\n",
              "      <td>18</td>\n",
              "      <td>24</td>\n",
              "      <td>28</td>\n",
              "      <td>70</td>\n",
              "      <td>18</td>\n",
              "      <td>0</td>\n",
              "      <td>0</td>\n",
              "      <td>0</td>\n",
              "      <td>0</td>\n",
              "      <td>41</td>\n",
              "      <td>18</td>\n",
              "      <td>24</td>\n",
              "      <td>28</td>\n",
              "      <td>70</td>\n",
              "    </tr>\n",
              "    <tr>\n",
              "      <th>Armenia (ARM)</th>\n",
              "      <td>Armenia (ARM)</td>\n",
              "      <td>5</td>\n",
              "      <td>1</td>\n",
              "      <td>2</td>\n",
              "      <td>9</td>\n",
              "      <td>12</td>\n",
              "      <td>6</td>\n",
              "      <td>0</td>\n",
              "      <td>0</td>\n",
              "      <td>0</td>\n",
              "      <td>0</td>\n",
              "      <td>11</td>\n",
              "      <td>1</td>\n",
              "      <td>2</td>\n",
              "      <td>9</td>\n",
              "      <td>12</td>\n",
              "    </tr>\n",
              "    <tr>\n",
              "      <th>Australasia (ANZ) [ANZ]</th>\n",
              "      <td>Australasia (ANZ) [ANZ]</td>\n",
              "      <td>2</td>\n",
              "      <td>3</td>\n",
              "      <td>4</td>\n",
              "      <td>5</td>\n",
              "      <td>12</td>\n",
              "      <td>0</td>\n",
              "      <td>0</td>\n",
              "      <td>0</td>\n",
              "      <td>0</td>\n",
              "      <td>0</td>\n",
              "      <td>2</td>\n",
              "      <td>3</td>\n",
              "      <td>4</td>\n",
              "      <td>5</td>\n",
              "      <td>12</td>\n",
              "    </tr>\n",
              "  </tbody>\n",
              "</table>\n",
              "</div>"
            ],
            "text/plain": [
              "                                           index  # Summer  Gold  Silver  \\\n",
              "Unnamed: 0                                                                 \n",
              "Afghanistan (AFG)              Afghanistan (AFG)        13     0       0   \n",
              "Algeria (ALG)                      Algeria (ALG)        12     5       2   \n",
              "Argentina (ARG)                  Argentina (ARG)        23    18      24   \n",
              "Armenia (ARM)                      Armenia (ARM)         5     1       2   \n",
              "Australasia (ANZ) [ANZ]  Australasia (ANZ) [ANZ]         2     3       4   \n",
              "\n",
              "                         Bronze  Total  # Winter  Gold.1  Silver.1  Bronze.1  \\\n",
              "Unnamed: 0                                                                     \n",
              "Afghanistan (AFG)             2      2         0       0         0         0   \n",
              "Algeria (ALG)                 8     15         3       0         0         0   \n",
              "Argentina (ARG)              28     70        18       0         0         0   \n",
              "Armenia (ARM)                 9     12         6       0         0         0   \n",
              "Australasia (ANZ) [ANZ]       5     12         0       0         0         0   \n",
              "\n",
              "                         Total.1  # Games  Gold.2  Silver.2  Bronze.2  \\\n",
              "Unnamed: 0                                                              \n",
              "Afghanistan (AFG)              0       13       0         0         2   \n",
              "Algeria (ALG)                  0       15       5         2         8   \n",
              "Argentina (ARG)                0       41      18        24        28   \n",
              "Armenia (ARM)                  0       11       1         2         9   \n",
              "Australasia (ANZ) [ANZ]        0        2       3         4         5   \n",
              "\n",
              "                         Combined total  \n",
              "Unnamed: 0                               \n",
              "Afghanistan (AFG)                     2  \n",
              "Algeria (ALG)                        15  \n",
              "Argentina (ARG)                      70  \n",
              "Armenia (ARM)                        12  \n",
              "Australasia (ANZ) [ANZ]              12  "
            ]
          },
          "metadata": {
            "tags": []
          },
          "execution_count": 125
        }
      ]
    },
    {
      "cell_type": "markdown",
      "metadata": {
        "id": "_mm4SgSM9Yy1"
      },
      "source": [
        "### **Removing columns** \n",
        "How to remove rows or columns you say? just be carefull of ruining your life with simple mistake!!"
      ]
    },
    {
      "cell_type": "code",
      "metadata": {
        "ExecuteTime": {
          "end_time": "2020-09-14T20:25:12.448656Z",
          "start_time": "2020-09-14T20:25:12.428665Z"
        },
        "cell_style": "split",
        "id": "o7R7d4bJ9Yy4",
        "outputId": "5a41ba68-87eb-418e-ce8e-174a1d3e03de"
      },
      "source": [
        "# to drop index row it's as simple as this\n",
        "df.drop('Store 1',inplace=False)\n",
        "\n",
        "# notice it didn't change the real data because inplace = False!"
      ],
      "execution_count": null,
      "outputs": [
        {
          "output_type": "execute_result",
          "data": {
            "text/html": [
              "<div>\n",
              "<style scoped>\n",
              "    .dataframe tbody tr th:only-of-type {\n",
              "        vertical-align: middle;\n",
              "    }\n",
              "\n",
              "    .dataframe tbody tr th {\n",
              "        vertical-align: top;\n",
              "    }\n",
              "\n",
              "    .dataframe thead th {\n",
              "        text-align: right;\n",
              "    }\n",
              "</style>\n",
              "<table border=\"1\" class=\"dataframe\">\n",
              "  <thead>\n",
              "    <tr style=\"text-align: right;\">\n",
              "      <th></th>\n",
              "      <th>Name</th>\n",
              "      <th>Item Purchased</th>\n",
              "      <th>Cost</th>\n",
              "    </tr>\n",
              "  </thead>\n",
              "  <tbody>\n",
              "    <tr>\n",
              "      <th>Store 2</th>\n",
              "      <td>Vinod</td>\n",
              "      <td>Bird Seed</td>\n",
              "      <td>5.0</td>\n",
              "    </tr>\n",
              "  </tbody>\n",
              "</table>\n",
              "</div>"
            ],
            "text/plain": [
              "          Name Item Purchased  Cost\n",
              "Store 2  Vinod      Bird Seed   5.0"
            ]
          },
          "metadata": {
            "tags": []
          },
          "execution_count": 33
        }
      ]
    },
    {
      "cell_type": "code",
      "metadata": {
        "ExecuteTime": {
          "end_time": "2020-09-14T20:25:16.665349Z",
          "start_time": "2020-09-14T20:25:16.638362Z"
        },
        "cell_style": "split",
        "scrolled": true,
        "id": "F_L8Hwm-9YzG",
        "outputId": "029c0d65-d6f0-4aa4-81ee-29b2c87b9f79"
      },
      "source": [
        "# lets print the data and see\n",
        "df"
      ],
      "execution_count": null,
      "outputs": [
        {
          "output_type": "execute_result",
          "data": {
            "text/html": [
              "<div>\n",
              "<style scoped>\n",
              "    .dataframe tbody tr th:only-of-type {\n",
              "        vertical-align: middle;\n",
              "    }\n",
              "\n",
              "    .dataframe tbody tr th {\n",
              "        vertical-align: top;\n",
              "    }\n",
              "\n",
              "    .dataframe thead th {\n",
              "        text-align: right;\n",
              "    }\n",
              "</style>\n",
              "<table border=\"1\" class=\"dataframe\">\n",
              "  <thead>\n",
              "    <tr style=\"text-align: right;\">\n",
              "      <th></th>\n",
              "      <th>Name</th>\n",
              "      <th>Item Purchased</th>\n",
              "      <th>Cost</th>\n",
              "    </tr>\n",
              "  </thead>\n",
              "  <tbody>\n",
              "    <tr>\n",
              "      <th>Store 1</th>\n",
              "      <td>Chris</td>\n",
              "      <td>Dog Food</td>\n",
              "      <td>22.5</td>\n",
              "    </tr>\n",
              "    <tr>\n",
              "      <th>Store 1</th>\n",
              "      <td>Kevyn</td>\n",
              "      <td>Kitty Litter</td>\n",
              "      <td>2.5</td>\n",
              "    </tr>\n",
              "    <tr>\n",
              "      <th>Store 2</th>\n",
              "      <td>Vinod</td>\n",
              "      <td>Bird Seed</td>\n",
              "      <td>5.0</td>\n",
              "    </tr>\n",
              "  </tbody>\n",
              "</table>\n",
              "</div>"
            ],
            "text/plain": [
              "          Name Item Purchased  Cost\n",
              "Store 1  Chris       Dog Food  22.5\n",
              "Store 1  Kevyn   Kitty Litter   2.5\n",
              "Store 2  Vinod      Bird Seed   5.0"
            ]
          },
          "metadata": {
            "tags": []
          },
          "execution_count": 34
        }
      ]
    },
    {
      "cell_type": "code",
      "metadata": {
        "ExecuteTime": {
          "end_time": "2020-09-14T20:26:54.079439Z",
          "start_time": "2020-09-14T20:26:54.051448Z"
        },
        "cell_style": "split",
        "id": "y6yvvhNL9YzW",
        "outputId": "b946b646-1be2-4e34-c21d-f0069c252907"
      },
      "source": [
        "# to drop column tho you will need to provide the axis\n",
        "df.drop( 'Item Purchased' , axis = 1)"
      ],
      "execution_count": null,
      "outputs": [
        {
          "output_type": "execute_result",
          "data": {
            "text/html": [
              "<div>\n",
              "<style scoped>\n",
              "    .dataframe tbody tr th:only-of-type {\n",
              "        vertical-align: middle;\n",
              "    }\n",
              "\n",
              "    .dataframe tbody tr th {\n",
              "        vertical-align: top;\n",
              "    }\n",
              "\n",
              "    .dataframe thead th {\n",
              "        text-align: right;\n",
              "    }\n",
              "</style>\n",
              "<table border=\"1\" class=\"dataframe\">\n",
              "  <thead>\n",
              "    <tr style=\"text-align: right;\">\n",
              "      <th></th>\n",
              "      <th>Name</th>\n",
              "      <th>Cost</th>\n",
              "    </tr>\n",
              "  </thead>\n",
              "  <tbody>\n",
              "    <tr>\n",
              "      <th>Store 1</th>\n",
              "      <td>Chris</td>\n",
              "      <td>22.5</td>\n",
              "    </tr>\n",
              "    <tr>\n",
              "      <th>Store 1</th>\n",
              "      <td>Kevyn</td>\n",
              "      <td>2.5</td>\n",
              "    </tr>\n",
              "    <tr>\n",
              "      <th>Store 2</th>\n",
              "      <td>Vinod</td>\n",
              "      <td>5.0</td>\n",
              "    </tr>\n",
              "  </tbody>\n",
              "</table>\n",
              "</div>"
            ],
            "text/plain": [
              "          Name  Cost\n",
              "Store 1  Chris  22.5\n",
              "Store 1  Kevyn   2.5\n",
              "Store 2  Vinod   5.0"
            ]
          },
          "metadata": {
            "tags": []
          },
          "execution_count": 35
        }
      ]
    },
    {
      "cell_type": "code",
      "metadata": {
        "ExecuteTime": {
          "end_time": "2020-09-14T20:27:38.327207Z",
          "start_time": "2020-09-14T20:27:38.297223Z"
        },
        "cell_style": "split",
        "id": "0LJMqtCC9Yzi",
        "outputId": "cd9cee43-13e4-42f7-f111-e8cfa11d5621"
      },
      "source": [
        "# lets try not to provide the axis?\n",
        "df.drop( 'Item Purchased' )\n",
        "\n",
        "# see? that's why you won't always be lucky, maybe there's a row\n",
        "# called item purchased and you removed it unintentionally!\n"
      ],
      "execution_count": null,
      "outputs": [
        {
          "output_type": "error",
          "ename": "KeyError",
          "evalue": "\"['Item Purchased'] not found in axis\"",
          "traceback": [
            "\u001b[1;31m---------------------------------------------------------------------------\u001b[0m",
            "\u001b[1;31mKeyError\u001b[0m                                  Traceback (most recent call last)",
            "\u001b[1;32m<ipython-input-36-94b400ca61f8>\u001b[0m in \u001b[0;36m<module>\u001b[1;34m\u001b[0m\n\u001b[0;32m      1\u001b[0m \u001b[1;31m# lets try not to provide the axis?\u001b[0m\u001b[1;33m\u001b[0m\u001b[1;33m\u001b[0m\u001b[1;33m\u001b[0m\u001b[0m\n\u001b[1;32m----> 2\u001b[1;33m \u001b[0mdf\u001b[0m\u001b[1;33m.\u001b[0m\u001b[0mdrop\u001b[0m\u001b[1;33m(\u001b[0m \u001b[1;34m'Item Purchased'\u001b[0m \u001b[1;33m)\u001b[0m\u001b[1;33m\u001b[0m\u001b[1;33m\u001b[0m\u001b[0m\n\u001b[0m",
            "\u001b[1;32mC:\\ProgramData\\Anaconda3\\lib\\site-packages\\pandas\\core\\frame.py\u001b[0m in \u001b[0;36mdrop\u001b[1;34m(self, labels, axis, index, columns, level, inplace, errors)\u001b[0m\n\u001b[0;32m   4162\u001b[0m             \u001b[0mlevel\u001b[0m\u001b[1;33m=\u001b[0m\u001b[0mlevel\u001b[0m\u001b[1;33m,\u001b[0m\u001b[1;33m\u001b[0m\u001b[1;33m\u001b[0m\u001b[0m\n\u001b[0;32m   4163\u001b[0m             \u001b[0minplace\u001b[0m\u001b[1;33m=\u001b[0m\u001b[0minplace\u001b[0m\u001b[1;33m,\u001b[0m\u001b[1;33m\u001b[0m\u001b[1;33m\u001b[0m\u001b[0m\n\u001b[1;32m-> 4164\u001b[1;33m             \u001b[0merrors\u001b[0m\u001b[1;33m=\u001b[0m\u001b[0merrors\u001b[0m\u001b[1;33m,\u001b[0m\u001b[1;33m\u001b[0m\u001b[1;33m\u001b[0m\u001b[0m\n\u001b[0m\u001b[0;32m   4165\u001b[0m         )\n\u001b[0;32m   4166\u001b[0m \u001b[1;33m\u001b[0m\u001b[0m\n",
            "\u001b[1;32mC:\\ProgramData\\Anaconda3\\lib\\site-packages\\pandas\\core\\generic.py\u001b[0m in \u001b[0;36mdrop\u001b[1;34m(self, labels, axis, index, columns, level, inplace, errors)\u001b[0m\n\u001b[0;32m   3876\u001b[0m         \u001b[1;32mfor\u001b[0m \u001b[0maxis\u001b[0m\u001b[1;33m,\u001b[0m \u001b[0mlabels\u001b[0m \u001b[1;32min\u001b[0m \u001b[0maxes\u001b[0m\u001b[1;33m.\u001b[0m\u001b[0mitems\u001b[0m\u001b[1;33m(\u001b[0m\u001b[1;33m)\u001b[0m\u001b[1;33m:\u001b[0m\u001b[1;33m\u001b[0m\u001b[1;33m\u001b[0m\u001b[0m\n\u001b[0;32m   3877\u001b[0m             \u001b[1;32mif\u001b[0m \u001b[0mlabels\u001b[0m \u001b[1;32mis\u001b[0m \u001b[1;32mnot\u001b[0m \u001b[1;32mNone\u001b[0m\u001b[1;33m:\u001b[0m\u001b[1;33m\u001b[0m\u001b[1;33m\u001b[0m\u001b[0m\n\u001b[1;32m-> 3878\u001b[1;33m                 \u001b[0mobj\u001b[0m \u001b[1;33m=\u001b[0m \u001b[0mobj\u001b[0m\u001b[1;33m.\u001b[0m\u001b[0m_drop_axis\u001b[0m\u001b[1;33m(\u001b[0m\u001b[0mlabels\u001b[0m\u001b[1;33m,\u001b[0m \u001b[0maxis\u001b[0m\u001b[1;33m,\u001b[0m \u001b[0mlevel\u001b[0m\u001b[1;33m=\u001b[0m\u001b[0mlevel\u001b[0m\u001b[1;33m,\u001b[0m \u001b[0merrors\u001b[0m\u001b[1;33m=\u001b[0m\u001b[0merrors\u001b[0m\u001b[1;33m)\u001b[0m\u001b[1;33m\u001b[0m\u001b[1;33m\u001b[0m\u001b[0m\n\u001b[0m\u001b[0;32m   3879\u001b[0m \u001b[1;33m\u001b[0m\u001b[0m\n\u001b[0;32m   3880\u001b[0m         \u001b[1;32mif\u001b[0m \u001b[0minplace\u001b[0m\u001b[1;33m:\u001b[0m\u001b[1;33m\u001b[0m\u001b[1;33m\u001b[0m\u001b[0m\n",
            "\u001b[1;32mC:\\ProgramData\\Anaconda3\\lib\\site-packages\\pandas\\core\\generic.py\u001b[0m in \u001b[0;36m_drop_axis\u001b[1;34m(self, labels, axis, level, errors)\u001b[0m\n\u001b[0;32m   3929\u001b[0m                 \u001b[0mlabels_missing\u001b[0m \u001b[1;33m=\u001b[0m \u001b[1;33m(\u001b[0m\u001b[0maxis\u001b[0m\u001b[1;33m.\u001b[0m\u001b[0mget_indexer_for\u001b[0m\u001b[1;33m(\u001b[0m\u001b[0mlabels\u001b[0m\u001b[1;33m)\u001b[0m \u001b[1;33m==\u001b[0m \u001b[1;33m-\u001b[0m\u001b[1;36m1\u001b[0m\u001b[1;33m)\u001b[0m\u001b[1;33m.\u001b[0m\u001b[0many\u001b[0m\u001b[1;33m(\u001b[0m\u001b[1;33m)\u001b[0m\u001b[1;33m\u001b[0m\u001b[1;33m\u001b[0m\u001b[0m\n\u001b[0;32m   3930\u001b[0m                 \u001b[1;32mif\u001b[0m \u001b[0merrors\u001b[0m \u001b[1;33m==\u001b[0m \u001b[1;34m\"raise\"\u001b[0m \u001b[1;32mand\u001b[0m \u001b[0mlabels_missing\u001b[0m\u001b[1;33m:\u001b[0m\u001b[1;33m\u001b[0m\u001b[1;33m\u001b[0m\u001b[0m\n\u001b[1;32m-> 3931\u001b[1;33m                     \u001b[1;32mraise\u001b[0m \u001b[0mKeyError\u001b[0m\u001b[1;33m(\u001b[0m\u001b[1;34mf\"{labels} not found in axis\"\u001b[0m\u001b[1;33m)\u001b[0m\u001b[1;33m\u001b[0m\u001b[1;33m\u001b[0m\u001b[0m\n\u001b[0m\u001b[0;32m   3932\u001b[0m \u001b[1;33m\u001b[0m\u001b[0m\n\u001b[0;32m   3933\u001b[0m             \u001b[0mslicer\u001b[0m \u001b[1;33m=\u001b[0m \u001b[1;33m[\u001b[0m\u001b[0mslice\u001b[0m\u001b[1;33m(\u001b[0m\u001b[1;32mNone\u001b[0m\u001b[1;33m)\u001b[0m\u001b[1;33m]\u001b[0m \u001b[1;33m*\u001b[0m \u001b[0mself\u001b[0m\u001b[1;33m.\u001b[0m\u001b[0mndim\u001b[0m\u001b[1;33m\u001b[0m\u001b[1;33m\u001b[0m\u001b[0m\n",
            "\u001b[1;31mKeyError\u001b[0m: \"['Item Purchased'] not found in axis\""
          ]
        }
      ]
    },
    {
      "cell_type": "code",
      "metadata": {
        "ExecuteTime": {
          "end_time": "2020-09-14T20:31:03.958633Z",
          "start_time": "2020-09-14T20:31:03.934643Z"
        },
        "cell_style": "split",
        "id": "iCg1cUCw9Yzv",
        "outputId": "b97761de-cc58-4ca3-e7cc-1094880c2b4c"
      },
      "source": [
        "copy_df = df.copy() # always make sure to copy your data to make sure\n",
        "copy_df = copy_df.drop('Store 2')\n",
        "copy_df # now let's remove one for real ha"
      ],
      "execution_count": null,
      "outputs": [
        {
          "output_type": "execute_result",
          "data": {
            "text/html": [
              "<div>\n",
              "<style scoped>\n",
              "    .dataframe tbody tr th:only-of-type {\n",
              "        vertical-align: middle;\n",
              "    }\n",
              "\n",
              "    .dataframe tbody tr th {\n",
              "        vertical-align: top;\n",
              "    }\n",
              "\n",
              "    .dataframe thead th {\n",
              "        text-align: right;\n",
              "    }\n",
              "</style>\n",
              "<table border=\"1\" class=\"dataframe\">\n",
              "  <thead>\n",
              "    <tr style=\"text-align: right;\">\n",
              "      <th></th>\n",
              "      <th>Name</th>\n",
              "      <th>Item Purchased</th>\n",
              "      <th>Cost</th>\n",
              "    </tr>\n",
              "  </thead>\n",
              "  <tbody>\n",
              "    <tr>\n",
              "      <th>Store 1</th>\n",
              "      <td>Chris</td>\n",
              "      <td>Dog Food</td>\n",
              "      <td>22.5</td>\n",
              "    </tr>\n",
              "    <tr>\n",
              "      <th>Store 1</th>\n",
              "      <td>Kevyn</td>\n",
              "      <td>Kitty Litter</td>\n",
              "      <td>2.5</td>\n",
              "    </tr>\n",
              "  </tbody>\n",
              "</table>\n",
              "</div>"
            ],
            "text/plain": [
              "          Name Item Purchased  Cost\n",
              "Store 1  Chris       Dog Food  22.5\n",
              "Store 1  Kevyn   Kitty Litter   2.5"
            ]
          },
          "metadata": {
            "tags": []
          },
          "execution_count": 45
        }
      ]
    },
    {
      "cell_type": "code",
      "metadata": {
        "ExecuteTime": {
          "end_time": "2020-09-14T20:31:23.004823Z",
          "start_time": "2020-09-14T20:31:22.989829Z"
        },
        "cell_style": "split",
        "id": "_LSUQOB39Y0a",
        "outputId": "ea2cdf1d-0bfa-4a16-8242-4fc9ad76015f"
      },
      "source": [
        "# another way to in-place delete a col// doesn't work on rows\n",
        "del copy_df['Name']\n",
        "copy_df"
      ],
      "execution_count": null,
      "outputs": [
        {
          "output_type": "execute_result",
          "data": {
            "text/html": [
              "<div>\n",
              "<style scoped>\n",
              "    .dataframe tbody tr th:only-of-type {\n",
              "        vertical-align: middle;\n",
              "    }\n",
              "\n",
              "    .dataframe tbody tr th {\n",
              "        vertical-align: top;\n",
              "    }\n",
              "\n",
              "    .dataframe thead th {\n",
              "        text-align: right;\n",
              "    }\n",
              "</style>\n",
              "<table border=\"1\" class=\"dataframe\">\n",
              "  <thead>\n",
              "    <tr style=\"text-align: right;\">\n",
              "      <th></th>\n",
              "      <th>Item Purchased</th>\n",
              "      <th>Cost</th>\n",
              "    </tr>\n",
              "  </thead>\n",
              "  <tbody>\n",
              "    <tr>\n",
              "      <th>Store 1</th>\n",
              "      <td>Dog Food</td>\n",
              "      <td>22.5</td>\n",
              "    </tr>\n",
              "    <tr>\n",
              "      <th>Store 1</th>\n",
              "      <td>Kitty Litter</td>\n",
              "      <td>2.5</td>\n",
              "    </tr>\n",
              "  </tbody>\n",
              "</table>\n",
              "</div>"
            ],
            "text/plain": [
              "        Item Purchased  Cost\n",
              "Store 1       Dog Food  22.5\n",
              "Store 1   Kitty Litter   2.5"
            ]
          },
          "metadata": {
            "tags": []
          },
          "execution_count": 47
        }
      ]
    },
    {
      "cell_type": "code",
      "metadata": {
        "ExecuteTime": {
          "end_time": "2020-09-14T20:44:51.871047Z",
          "start_time": "2020-09-14T20:44:51.849058Z"
        },
        "cell_style": "split",
        "id": "zzbHQ-M-9Y0l",
        "outputId": "42cebc5b-f078-4b0f-9502-27f3cebf8a49"
      },
      "source": [
        "df['Location'] = None # create a whole column filled with None values\n",
        "df"
      ],
      "execution_count": null,
      "outputs": [
        {
          "output_type": "execute_result",
          "data": {
            "text/html": [
              "<div>\n",
              "<style scoped>\n",
              "    .dataframe tbody tr th:only-of-type {\n",
              "        vertical-align: middle;\n",
              "    }\n",
              "\n",
              "    .dataframe tbody tr th {\n",
              "        vertical-align: top;\n",
              "    }\n",
              "\n",
              "    .dataframe thead th {\n",
              "        text-align: right;\n",
              "    }\n",
              "</style>\n",
              "<table border=\"1\" class=\"dataframe\">\n",
              "  <thead>\n",
              "    <tr style=\"text-align: right;\">\n",
              "      <th></th>\n",
              "      <th>Name</th>\n",
              "      <th>Item Purchased</th>\n",
              "      <th>Cost</th>\n",
              "      <th>Location</th>\n",
              "    </tr>\n",
              "  </thead>\n",
              "  <tbody>\n",
              "    <tr>\n",
              "      <th>Store 1</th>\n",
              "      <td>Chris</td>\n",
              "      <td>Dog Food</td>\n",
              "      <td>22.5</td>\n",
              "      <td>None</td>\n",
              "    </tr>\n",
              "    <tr>\n",
              "      <th>Store 1</th>\n",
              "      <td>Kevyn</td>\n",
              "      <td>Kitty Litter</td>\n",
              "      <td>2.5</td>\n",
              "      <td>None</td>\n",
              "    </tr>\n",
              "    <tr>\n",
              "      <th>Store 2</th>\n",
              "      <td>Vinod</td>\n",
              "      <td>Bird Seed</td>\n",
              "      <td>5.0</td>\n",
              "      <td>None</td>\n",
              "    </tr>\n",
              "  </tbody>\n",
              "</table>\n",
              "</div>"
            ],
            "text/plain": [
              "          Name Item Purchased  Cost Location\n",
              "Store 1  Chris       Dog Food  22.5     None\n",
              "Store 1  Kevyn   Kitty Litter   2.5     None\n",
              "Store 2  Vinod      Bird Seed   5.0     None"
            ]
          },
          "metadata": {
            "tags": []
          },
          "execution_count": 64
        }
      ]
    },
    {
      "cell_type": "code",
      "metadata": {
        "ExecuteTime": {
          "end_time": "2020-09-14T20:37:32.143438Z",
          "start_time": "2020-09-14T20:37:32.108401Z"
        },
        "cell_style": "split",
        "id": "Sw3raygf9Y08",
        "outputId": "d41e4e45-9622-4738-b075-01dc839c6c33"
      },
      "source": [
        "# let's use dropna to clean that None values\n",
        "df.dropna()\n",
        "\n",
        "# OOOOPS !!! ,, next tiem you do anything first cope the data\n",
        "# second focus which axis is the data you want to change !"
      ],
      "execution_count": null,
      "outputs": [
        {
          "output_type": "execute_result",
          "data": {
            "text/html": [
              "<div>\n",
              "<style scoped>\n",
              "    .dataframe tbody tr th:only-of-type {\n",
              "        vertical-align: middle;\n",
              "    }\n",
              "\n",
              "    .dataframe tbody tr th {\n",
              "        vertical-align: top;\n",
              "    }\n",
              "\n",
              "    .dataframe thead th {\n",
              "        text-align: right;\n",
              "    }\n",
              "</style>\n",
              "<table border=\"1\" class=\"dataframe\">\n",
              "  <thead>\n",
              "    <tr style=\"text-align: right;\">\n",
              "      <th></th>\n",
              "      <th>Name</th>\n",
              "      <th>Item Purchased</th>\n",
              "      <th>Cost</th>\n",
              "      <th>Location</th>\n",
              "    </tr>\n",
              "  </thead>\n",
              "  <tbody>\n",
              "  </tbody>\n",
              "</table>\n",
              "</div>"
            ],
            "text/plain": [
              "Empty DataFrame\n",
              "Columns: [Name, Item Purchased, Cost, Location]\n",
              "Index: []"
            ]
          },
          "metadata": {
            "tags": []
          },
          "execution_count": 49
        }
      ]
    },
    {
      "cell_type": "code",
      "metadata": {
        "ExecuteTime": {
          "end_time": "2020-09-14T20:38:51.806684Z",
          "start_time": "2020-09-14T20:38:51.796688Z"
        },
        "cell_style": "split",
        "id": "pRgEkRJJ9Y1P",
        "outputId": "0f5ce91e-0fad-40be-aeb6-7e57fcb9e9b4"
      },
      "source": [
        "# let's print the shape of the data, and always keep an eye on that\n",
        "df.shape\n",
        "\n",
        "# as you can see here location is in the second dimention"
      ],
      "execution_count": null,
      "outputs": [
        {
          "output_type": "execute_result",
          "data": {
            "text/plain": [
              "(3, 4)"
            ]
          },
          "metadata": {
            "tags": []
          },
          "execution_count": 50
        }
      ]
    },
    {
      "cell_type": "code",
      "metadata": {
        "ExecuteTime": {
          "end_time": "2020-09-14T20:38:59.068445Z",
          "start_time": "2020-09-14T20:38:59.043458Z"
        },
        "cell_style": "split",
        "id": "ehZAecLW9Y1c",
        "outputId": "6aae9bb9-6c72-40d5-a2c9-74261a8721c3"
      },
      "source": [
        "df.dropna(axis=1) # dropping the right axis filled with None"
      ],
      "execution_count": null,
      "outputs": [
        {
          "output_type": "execute_result",
          "data": {
            "text/html": [
              "<div>\n",
              "<style scoped>\n",
              "    .dataframe tbody tr th:only-of-type {\n",
              "        vertical-align: middle;\n",
              "    }\n",
              "\n",
              "    .dataframe tbody tr th {\n",
              "        vertical-align: top;\n",
              "    }\n",
              "\n",
              "    .dataframe thead th {\n",
              "        text-align: right;\n",
              "    }\n",
              "</style>\n",
              "<table border=\"1\" class=\"dataframe\">\n",
              "  <thead>\n",
              "    <tr style=\"text-align: right;\">\n",
              "      <th></th>\n",
              "      <th>Name</th>\n",
              "      <th>Item Purchased</th>\n",
              "      <th>Cost</th>\n",
              "    </tr>\n",
              "  </thead>\n",
              "  <tbody>\n",
              "    <tr>\n",
              "      <th>Store 1</th>\n",
              "      <td>Chris</td>\n",
              "      <td>Dog Food</td>\n",
              "      <td>22.5</td>\n",
              "    </tr>\n",
              "    <tr>\n",
              "      <th>Store 1</th>\n",
              "      <td>Kevyn</td>\n",
              "      <td>Kitty Litter</td>\n",
              "      <td>2.5</td>\n",
              "    </tr>\n",
              "    <tr>\n",
              "      <th>Store 2</th>\n",
              "      <td>Vinod</td>\n",
              "      <td>Bird Seed</td>\n",
              "      <td>5.0</td>\n",
              "    </tr>\n",
              "  </tbody>\n",
              "</table>\n",
              "</div>"
            ],
            "text/plain": [
              "          Name Item Purchased  Cost\n",
              "Store 1  Chris       Dog Food  22.5\n",
              "Store 1  Kevyn   Kitty Litter   2.5\n",
              "Store 2  Vinod      Bird Seed   5.0"
            ]
          },
          "metadata": {
            "tags": []
          },
          "execution_count": 51
        }
      ]
    },
    {
      "cell_type": "code",
      "metadata": {
        "ExecuteTime": {
          "end_time": "2020-09-14T20:45:09.676169Z",
          "start_time": "2020-09-14T20:45:09.658183Z"
        },
        "cell_style": "center",
        "id": "YEzMpFNl9Y1q",
        "outputId": "6b661944-7476-43e5-b067-7ca5d17b295a"
      },
      "source": [
        "# let's see the data again with the location col\n",
        "df"
      ],
      "execution_count": null,
      "outputs": [
        {
          "output_type": "execute_result",
          "data": {
            "text/html": [
              "<div>\n",
              "<style scoped>\n",
              "    .dataframe tbody tr th:only-of-type {\n",
              "        vertical-align: middle;\n",
              "    }\n",
              "\n",
              "    .dataframe tbody tr th {\n",
              "        vertical-align: top;\n",
              "    }\n",
              "\n",
              "    .dataframe thead th {\n",
              "        text-align: right;\n",
              "    }\n",
              "</style>\n",
              "<table border=\"1\" class=\"dataframe\">\n",
              "  <thead>\n",
              "    <tr style=\"text-align: right;\">\n",
              "      <th></th>\n",
              "      <th>Name</th>\n",
              "      <th>Item Purchased</th>\n",
              "      <th>Cost</th>\n",
              "      <th>Location</th>\n",
              "    </tr>\n",
              "  </thead>\n",
              "  <tbody>\n",
              "    <tr>\n",
              "      <th>Store 1</th>\n",
              "      <td>Chris</td>\n",
              "      <td>Dog Food</td>\n",
              "      <td>22.5</td>\n",
              "      <td>None</td>\n",
              "    </tr>\n",
              "    <tr>\n",
              "      <th>Store 1</th>\n",
              "      <td>Kevyn</td>\n",
              "      <td>Kitty Litter</td>\n",
              "      <td>2.5</td>\n",
              "      <td>None</td>\n",
              "    </tr>\n",
              "    <tr>\n",
              "      <th>Store 2</th>\n",
              "      <td>Vinod</td>\n",
              "      <td>Bird Seed</td>\n",
              "      <td>5.0</td>\n",
              "      <td>5</td>\n",
              "    </tr>\n",
              "  </tbody>\n",
              "</table>\n",
              "</div>"
            ],
            "text/plain": [
              "          Name Item Purchased  Cost Location\n",
              "Store 1  Chris       Dog Food  22.5     None\n",
              "Store 1  Kevyn   Kitty Litter   2.5     None\n",
              "Store 2  Vinod      Bird Seed   5.0        5"
            ]
          },
          "metadata": {
            "tags": []
          },
          "execution_count": 67
        }
      ]
    },
    {
      "cell_type": "code",
      "metadata": {
        "ExecuteTime": {
          "end_time": "2020-09-14T20:45:18.506227Z",
          "start_time": "2020-09-14T20:45:18.477245Z"
        },
        "cell_style": "center",
        "id": "AWmwDpRH9Y2Y",
        "outputId": "3174b982-04e1-4f8e-f1a8-4d4ffaeab0ca"
      },
      "source": [
        "# let's change the value of col location crossed with row store 2 , and assign the value to 5\n",
        "# notice that you can access columns with . followed by the column name\n",
        "df.Location['Store 2'] = 5 \n",
        "df"
      ],
      "execution_count": null,
      "outputs": [
        {
          "output_type": "stream",
          "text": [
            "C:\\ProgramData\\Anaconda3\\lib\\site-packages\\ipykernel_launcher.py:1: SettingWithCopyWarning: \n",
            "A value is trying to be set on a copy of a slice from a DataFrame\n",
            "\n",
            "See the caveats in the documentation: https://pandas.pydata.org/pandas-docs/stable/user_guide/indexing.html#returning-a-view-versus-a-copy\n",
            "  \"\"\"Entry point for launching an IPython kernel.\n"
          ],
          "name": "stderr"
        },
        {
          "output_type": "execute_result",
          "data": {
            "text/html": [
              "<div>\n",
              "<style scoped>\n",
              "    .dataframe tbody tr th:only-of-type {\n",
              "        vertical-align: middle;\n",
              "    }\n",
              "\n",
              "    .dataframe tbody tr th {\n",
              "        vertical-align: top;\n",
              "    }\n",
              "\n",
              "    .dataframe thead th {\n",
              "        text-align: right;\n",
              "    }\n",
              "</style>\n",
              "<table border=\"1\" class=\"dataframe\">\n",
              "  <thead>\n",
              "    <tr style=\"text-align: right;\">\n",
              "      <th></th>\n",
              "      <th>Name</th>\n",
              "      <th>Item Purchased</th>\n",
              "      <th>Cost</th>\n",
              "      <th>Location</th>\n",
              "    </tr>\n",
              "  </thead>\n",
              "  <tbody>\n",
              "    <tr>\n",
              "      <th>Store 1</th>\n",
              "      <td>Chris</td>\n",
              "      <td>Dog Food</td>\n",
              "      <td>22.5</td>\n",
              "      <td>None</td>\n",
              "    </tr>\n",
              "    <tr>\n",
              "      <th>Store 1</th>\n",
              "      <td>Kevyn</td>\n",
              "      <td>Kitty Litter</td>\n",
              "      <td>2.5</td>\n",
              "      <td>None</td>\n",
              "    </tr>\n",
              "    <tr>\n",
              "      <th>Store 2</th>\n",
              "      <td>Vinod</td>\n",
              "      <td>Bird Seed</td>\n",
              "      <td>5.0</td>\n",
              "      <td>5</td>\n",
              "    </tr>\n",
              "  </tbody>\n",
              "</table>\n",
              "</div>"
            ],
            "text/plain": [
              "          Name Item Purchased  Cost Location\n",
              "Store 1  Chris       Dog Food  22.5     None\n",
              "Store 1  Kevyn   Kitty Litter   2.5     None\n",
              "Store 2  Vinod      Bird Seed   5.0        5"
            ]
          },
          "metadata": {
            "tags": []
          },
          "execution_count": 68
        }
      ]
    },
    {
      "cell_type": "code",
      "metadata": {
        "ExecuteTime": {
          "end_time": "2020-09-14T20:49:25.351623Z",
          "start_time": "2020-09-14T20:49:25.325636Z"
        },
        "cell_style": "split",
        "id": "JhgSgF7k9Y2i",
        "outputId": "c0ec5d7e-6c56-44d1-a379-e7606ab39a82"
      },
      "source": [
        "df"
      ],
      "execution_count": null,
      "outputs": [
        {
          "output_type": "execute_result",
          "data": {
            "text/html": [
              "<div>\n",
              "<style scoped>\n",
              "    .dataframe tbody tr th:only-of-type {\n",
              "        vertical-align: middle;\n",
              "    }\n",
              "\n",
              "    .dataframe tbody tr th {\n",
              "        vertical-align: top;\n",
              "    }\n",
              "\n",
              "    .dataframe thead th {\n",
              "        text-align: right;\n",
              "    }\n",
              "</style>\n",
              "<table border=\"1\" class=\"dataframe\">\n",
              "  <thead>\n",
              "    <tr style=\"text-align: right;\">\n",
              "      <th></th>\n",
              "      <th>Name</th>\n",
              "      <th>Item Purchased</th>\n",
              "      <th>Cost</th>\n",
              "      <th>Location</th>\n",
              "    </tr>\n",
              "  </thead>\n",
              "  <tbody>\n",
              "    <tr>\n",
              "      <th>Store 1</th>\n",
              "      <td>Chris</td>\n",
              "      <td>Dog Food</td>\n",
              "      <td>22.5</td>\n",
              "      <td>None</td>\n",
              "    </tr>\n",
              "    <tr>\n",
              "      <th>Store 1</th>\n",
              "      <td>Kevyn</td>\n",
              "      <td>Kitty Litter</td>\n",
              "      <td>2.5</td>\n",
              "      <td>None</td>\n",
              "    </tr>\n",
              "    <tr>\n",
              "      <th>Store 2</th>\n",
              "      <td>Vinod</td>\n",
              "      <td>Bird Seed</td>\n",
              "      <td>5.0</td>\n",
              "      <td>5</td>\n",
              "    </tr>\n",
              "  </tbody>\n",
              "</table>\n",
              "</div>"
            ],
            "text/plain": [
              "          Name Item Purchased  Cost Location\n",
              "Store 1  Chris       Dog Food  22.5     None\n",
              "Store 1  Kevyn   Kitty Litter   2.5     None\n",
              "Store 2  Vinod      Bird Seed   5.0        5"
            ]
          },
          "metadata": {
            "tags": []
          },
          "execution_count": 77
        }
      ]
    },
    {
      "cell_type": "code",
      "metadata": {
        "ExecuteTime": {
          "end_time": "2020-09-14T20:49:27.737552Z",
          "start_time": "2020-09-14T20:49:27.721564Z"
        },
        "cell_style": "split",
        "id": "aEth-nqv9Y2r",
        "outputId": "4ea2b94b-3bd3-4d2c-942e-f5cfba6b2c7c"
      },
      "source": [
        "df.dropna() \n",
        "\n",
        "# without assigning axis it automatically removes rows axis=0"
      ],
      "execution_count": null,
      "outputs": [
        {
          "output_type": "execute_result",
          "data": {
            "text/html": [
              "<div>\n",
              "<style scoped>\n",
              "    .dataframe tbody tr th:only-of-type {\n",
              "        vertical-align: middle;\n",
              "    }\n",
              "\n",
              "    .dataframe tbody tr th {\n",
              "        vertical-align: top;\n",
              "    }\n",
              "\n",
              "    .dataframe thead th {\n",
              "        text-align: right;\n",
              "    }\n",
              "</style>\n",
              "<table border=\"1\" class=\"dataframe\">\n",
              "  <thead>\n",
              "    <tr style=\"text-align: right;\">\n",
              "      <th></th>\n",
              "      <th>Name</th>\n",
              "      <th>Item Purchased</th>\n",
              "      <th>Cost</th>\n",
              "      <th>Location</th>\n",
              "    </tr>\n",
              "  </thead>\n",
              "  <tbody>\n",
              "    <tr>\n",
              "      <th>Store 2</th>\n",
              "      <td>Vinod</td>\n",
              "      <td>Bird Seed</td>\n",
              "      <td>5.0</td>\n",
              "      <td>5</td>\n",
              "    </tr>\n",
              "  </tbody>\n",
              "</table>\n",
              "</div>"
            ],
            "text/plain": [
              "          Name Item Purchased  Cost Location\n",
              "Store 2  Vinod      Bird Seed   5.0        5"
            ]
          },
          "metadata": {
            "tags": []
          },
          "execution_count": 78
        }
      ]
    },
    {
      "cell_type": "code",
      "metadata": {
        "ExecuteTime": {
          "end_time": "2020-09-14T20:49:58.133290Z",
          "start_time": "2020-09-14T20:49:58.117295Z"
        },
        "cell_style": "split",
        "id": "lw-Xziuy9Y3d",
        "outputId": "528cd975-da0a-459d-8ae7-b959d3cab2da"
      },
      "source": [
        "df.dropna(axis=1) # where with axis = 1 it removes col with None "
      ],
      "execution_count": null,
      "outputs": [
        {
          "output_type": "execute_result",
          "data": {
            "text/html": [
              "<div>\n",
              "<style scoped>\n",
              "    .dataframe tbody tr th:only-of-type {\n",
              "        vertical-align: middle;\n",
              "    }\n",
              "\n",
              "    .dataframe tbody tr th {\n",
              "        vertical-align: top;\n",
              "    }\n",
              "\n",
              "    .dataframe thead th {\n",
              "        text-align: right;\n",
              "    }\n",
              "</style>\n",
              "<table border=\"1\" class=\"dataframe\">\n",
              "  <thead>\n",
              "    <tr style=\"text-align: right;\">\n",
              "      <th></th>\n",
              "      <th>Name</th>\n",
              "      <th>Item Purchased</th>\n",
              "      <th>Cost</th>\n",
              "    </tr>\n",
              "  </thead>\n",
              "  <tbody>\n",
              "    <tr>\n",
              "      <th>Store 1</th>\n",
              "      <td>Chris</td>\n",
              "      <td>Dog Food</td>\n",
              "      <td>22.5</td>\n",
              "    </tr>\n",
              "    <tr>\n",
              "      <th>Store 1</th>\n",
              "      <td>Kevyn</td>\n",
              "      <td>Kitty Litter</td>\n",
              "      <td>2.5</td>\n",
              "    </tr>\n",
              "    <tr>\n",
              "      <th>Store 2</th>\n",
              "      <td>Vinod</td>\n",
              "      <td>Bird Seed</td>\n",
              "      <td>5.0</td>\n",
              "    </tr>\n",
              "  </tbody>\n",
              "</table>\n",
              "</div>"
            ],
            "text/plain": [
              "          Name Item Purchased  Cost\n",
              "Store 1  Chris       Dog Food  22.5\n",
              "Store 1  Kevyn   Kitty Litter   2.5\n",
              "Store 2  Vinod      Bird Seed   5.0"
            ]
          },
          "metadata": {
            "tags": []
          },
          "execution_count": 79
        }
      ]
    },
    {
      "cell_type": "code",
      "metadata": {
        "cell_style": "split",
        "id": "ab2N3Hki9Y3m"
      },
      "source": [
        "df.fillna(value=3 , method= None)"
      ],
      "execution_count": null,
      "outputs": []
    }
  ]
}